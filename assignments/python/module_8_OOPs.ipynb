{
 "cells": [
  {
   "cell_type": "markdown",
   "id": "4573fe7d-6621-47d3-a22e-05ca77a5be66",
   "metadata": {},
   "source": [
    "___\n",
    "#  PYTHON - MODULE 8 OOPS ASSIGNMENT\n",
    "---\n"
   ]
  },
  {
   "cell_type": "markdown",
   "id": "b80fc2cf",
   "metadata": {},
   "source": [
    "<div style=\"font-family: Verdana; font-size: 20px; font-weight: bold; color: black;\">\n",
    "Question 1:  What are the five key concepts of Object-Oriented Programming (OOP)?\n",
    "    \n",
    "</div>"
   ]
  },
  {
   "cell_type": "markdown",
   "id": "4befe220",
   "metadata": {},
   "source": [
    "<div style=\"font-family: Verdana; font-size: 18px; line-height: 1.6;\">\n",
    "    \n",
    "The five key concepts of Object-Oriented Programming (OOP) are:\n",
    "    \n",
    "__1. Classes and Objects:__\n",
    "\n",
    "- Classes are blueprints for creating objects, defining the properties (attributes) and behaviors (methods) that the objects created from them will have.\n",
    "-An object is an instance of a class, encapsulating data and functionality together.\n",
    "    \n",
    "__2. Encapsulation:__\n",
    "\n",
    "Encapsulation refers to bundling the data (attributes) and methods that operate on that data within a single unit or class. This concept helps in controlling access to the data by using access modifiers (e.g., private, protected, public), promoting data integrity and security.\n",
    "    \n",
    "    \n",
    "__3. Inheritance:__\n",
    "\n",
    "Inheritance allows a new class to inherit the properties and behaviors of an existing class. This helps promote code reuse and enables hierarchical classification, making it easy to extend and modify the functionality of existing code.\n",
    "\n",
    "__4. Polymorphism:__\n",
    "\n",
    "Polymorphism allows objects to be treated as instances of their parent class rather than their actual class. It enables one interface to be used for different data types or classes, allowing for method overriding and overloading, where the same method can perform different tasks based on the context.\n",
    "\n",
    "__5. Abstraction:__\n",
    "\n",
    "Abstraction is the concept of hiding complex implementation details and showing only the essential features of an object. It helps in reducing complexity and focusing on the interactions at a higher level without delving into the implementation specifics. Abstract classes and interfaces are commonly used to achieve abstraction."
   ]
  },
  {
   "cell_type": "markdown",
   "id": "3cc35cf2",
   "metadata": {},
   "source": [
    "<div style=\"font-family: Verdana; font-size: 18px; line-height: 1.6;\">\n",
    "    \n",
    "</div><div style=\"font-family: Verdana; font-size: 18px; line-height: 1.6;\">\n",
    "    \n",
    "</div>"
   ]
  },
  {
   "cell_type": "markdown",
   "id": "0d0e6253",
   "metadata": {},
   "source": [
    "<div style=\"font-family: Verdana; font-size: 20px; font-weight: bold; color: black;line-height:1.6\">\n",
    "Question 2: Write a Python class for a `Car` with attributes for `make`, `model`, and `year`. Include a method to display \n",
    "the car's information\n",
    "    \n",
    "</div>\n"
   ]
  },
  {
   "cell_type": "code",
   "execution_count": 4,
   "id": "2f582018",
   "metadata": {},
   "outputs": [
    {
     "name": "stdout",
     "output_type": "stream",
     "text": [
      "Car Information:\n",
      "Make : Tata\n",
      "Model: Harrier\n",
      "Year : 2024\n",
      "\n"
     ]
    }
   ],
   "source": [
    "class Car:\n",
    "    def __init__(self, make , model , year):\n",
    "        self.make = make\n",
    "        self.model = model\n",
    "        self.year = year\n",
    "    def display_info(self,):\n",
    "        print(f\"Car Information:\\n\"\n",
    "              f\"Make : {self.make}\\n\"\n",
    "              f\"Model: {self.model}\\n\"\n",
    "              f\"Year : {self.year}\\n\")\n",
    "\n",
    "\n",
    "# Example \n",
    "tata_car = Car(\"Tata\", \"Harrier\", 2024)\n",
    "tata_car.display_info()"
   ]
  },
  {
   "cell_type": "markdown",
   "id": "26bcf258",
   "metadata": {},
   "source": [
    "<div style=\"font-family: Verdana; font-size: 18px; line-height: 1.6;\">\n",
    "    \n",
    "</div><div style=\"font-family: Verdana; font-size: 18px; line-height: 1.6;\">\n",
    "    \n",
    "</div>"
   ]
  },
  {
   "cell_type": "markdown",
   "id": "c3b5e51c",
   "metadata": {},
   "source": [
    "<div style=\"font-family: Verdana; font-size: 20px; font-weight: bold; color: black;line-height:1.6\">\n",
    "Question 3:  Explain the difference between instance methods and class methods. Provide an example of each?\n",
    "    \n",
    "</div>\n",
    "\n"
   ]
  },
  {
   "cell_type": "markdown",
   "id": "96590c7a",
   "metadata": {},
   "source": [
    "<div style=\"font-family: Verdana; font-size: 18px; line-height: 1.6;\">\n",
    "    \n",
    "__1. Instance Methods__\n",
    "Instance methods are the most common type of method in Python classes.\n",
    "\n",
    "- Operate on specific instances of the class.\n",
    "- Can access and modify instance attributes.\n",
    "- Use `self` as their first parameter, which represents the specific instance of the class they are called on.\n",
    "    "
   ]
  },
  {
   "cell_type": "markdown",
   "id": "b6d31ce3",
   "metadata": {},
   "source": [
    "<div style=\"font-family: Verdana; font-size: 18px; line-height: 1.6;\">\n",
    "Example :\n",
    "    In this example class `Car` the `display_info` is the instance method.\n",
    "    \n",
    "```python\n",
    "class Car:\n",
    "    def __init__(self, make , model , year):\n",
    "        self.make = make\n",
    "        self.model = model\n",
    "        self.year = year\n",
    "    \n",
    "    def display_info(self,):  # Instance Method\n",
    "        print(f\"Car Information:\\n\"\n",
    "              f\"Make : {self.make}\\n\"\n",
    "              f\"Model: {self.model}\\n\"\n",
    "              f\"Year : {self.year}\\n\")\n",
    "\n",
    "\n",
    "# Example \n",
    "tata_car = Car(\"Tata\", \"Harrier\", 2024)\n",
    "\n",
    "# Calling the Instance method using the  instance `tata_car`\n",
    "tata_car.display_info() \n",
    "                        \n"
   ]
  },
  {
   "cell_type": "markdown",
   "id": "dfb8242d",
   "metadata": {},
   "source": [
    "<div style=\"font-family: Verdana; font-size: 18px; line-height: 1.6;\">\n",
    "\n",
    "__2. Class Methods:__\n",
    "\n",
    "\n",
    "- Operate on the class itself rather than on specific instances.\n",
    "- Use cls (conventionally) as their first parameter, which represents the class rather than an instance of the class.\n",
    "- Are defined using the `@classmethod` decorator.\n",
    "- Often used for factory methods, where you want to initialize an instance with alternative parameters or to keep track of data shared across all instances."
   ]
  },
  {
   "cell_type": "markdown",
   "id": "9165e9ae",
   "metadata": {},
   "source": [
    "<div style=\"font-family: Verdana; font-size: 18px; line-height: 1.6;\">\n",
    "Example :\n",
    "    In this example class `Car` the `total_cars` is the class method.\n",
    "    \n",
    "```python\n",
    "class Car:\n",
    "    car_count = 0  # Class attribute\n",
    "\n",
    "    def __init__(self, make, model, year):\n",
    "        self.make = make\n",
    "        self.model = model\n",
    "        self.year = year\n",
    "        Car.car_count += 1\n",
    "\n",
    "    @classmethod\n",
    "    def total_cars(cls):  # Class method\n",
    "        return f\"Total cars created: {cls.car_count}\"\n",
    "\n",
    "# Using the class method\n",
    "car1 = Car(\"Toyota\", \"Corolla\", 2020)\n",
    "car2 = Car(\"Honda\", \"Civic\", 2021)\n",
    "print(Car.total_cars())  # Output: \"Total cars created: 2\"\n"
   ]
  },
  {
   "cell_type": "markdown",
   "id": "24c2c40b",
   "metadata": {},
   "source": [
    "<div style=\"font-family: Verdana; font-size: 20px; font-weight: bold; color: black; line-height:1.6\">\n",
    "Question 4: How does Python implement method overloading? Give an example\n",
    "    \n",
    "</div>"
   ]
  },
  {
   "cell_type": "markdown",
   "id": "02ffb37a",
   "metadata": {},
   "source": [
    " <div style=\"font-family: Verdana; font-size: 18px; line-height: 1.6;\">\n",
    "    \n",
    "In Python, method overloading (having multiple methods with the same name but different parameter lists) is not natively supported as it is in some other languages like Java or C++. Instead, Python allows us to achieve similar functionality by using default arguments or by checking the types and number of arguments within a single method.\n",
    "\n",
    "One way to mimic method overloading in Python is to use default arguments to make a method flexible enough to handle different numbers of parameters.\n",
    "\n",
    "Example:\n",
    "    \n",
    "```python\n",
    "class Calculator:\n",
    "    def add(self, a, b=0, c=0):\n",
    "        return a + b + c\n",
    "\n",
    "# Usage\n",
    "calc = Calculator()\n",
    "print(calc.add(5))           # Output: 5 (only 'a' is provided)\n",
    "print(calc.add(5, 10))       # Output: 15 (adds 'a' and 'b')\n",
    "print(calc.add(5, 10, 15))   # Output: 30 (adds 'a', 'b', and 'c')\n",
    "\n",
    "\n"
   ]
  },
  {
   "cell_type": "markdown",
   "id": "638a2704",
   "metadata": {},
   "source": [
    "<div style=\"font-family: Verdana; font-size: 20px; font-weight: bold; color: black;line-height:1.6\">\n",
    "Question 5: What are the three types of access modifiers in Python? How are they denoted ?\n",
    "    \n",
    "</div>\n",
    "\n"
   ]
  },
  {
   "cell_type": "markdown",
   "id": "2bddd640",
   "metadata": {},
   "source": [
    " <div style=\"font-family: Verdana; font-size: 18px; line-height: 1.6;\">\n",
    "In Python, access modifiers control the visibility of class attributes and methods. There are three types of access modifiers available such as public, protected, and private.\n",
    "\n",
    "__1. Public Access__\n",
    "\n",
    "- Denoted by: No leading underscore (e.g., name).\n",
    "- Accessibility: Public members can be accessed from both inside and outside the class.\n",
    "- Usage: By default, all attributes and methods in Python are public unless specified otherwise.\n",
    "\n",
    "Example:\n",
    "    \n",
    "```python\n",
    "class Car:\n",
    "    def __init__(self, make, model):\n",
    "        self.make = make  # Public attribute\n",
    "        self.model = model\n",
    "\n",
    "    def display_info(self):  # Public method\n",
    "        print(f\"{self.make} {self.model}\")\n",
    "\n",
    "# Usage\n",
    "my_car = Car(\"Toyota\", \"Corolla\")\n",
    "print(my_car.make)          # Accessing public attribute\n",
    "my_car.display_info()        # Calling public method\n",
    "\n"
   ]
  },
  {
   "cell_type": "markdown",
   "id": "3d853724",
   "metadata": {},
   "source": [
    " <div style=\"font-family: Verdana; font-size: 18px; line-height: 1.6;\">\n",
    "\n",
    "__2. Protected Access:__\n",
    "    \n",
    "- Denoted by: A single leading underscore (e.g., _engine_type).\n",
    "- Accessibility: Protected members can be accessed within the class and in subclasses, but not from outside the class (although it is technically accessible, it is discouraged by convention).\n",
    "- Usage: This is a convention to suggest that the member is intended for internal use within the class or its subclasses.\n",
    "    \n",
    "__Example:__\n",
    "    \n",
    "```python\n",
    "class Car:\n",
    "    def __init__(self, make, model, engine_type):\n",
    "        self.make = make\n",
    "        self.model = model\n",
    "        self._engine_type = engine_type  # Protected attribute\n",
    "\n",
    "    def _start_engine(self):  # Protected method\n",
    "        print(\"Starting engine...\")\n",
    "\n",
    "class ElectricCar(Car):\n",
    "    def display_info(self):\n",
    "        print(f\"{self.make} {self.model} {self._engine_type} engine\")\n",
    "                                 \n",
    "    \n",
    "# Usage\n",
    "my_electric_car = ElectricCar(\"Tesla\", \"Model S\", \"electric\")\n",
    "    \n",
    "# Accessing protected attribute in subclass       \n",
    "my_electric_car.display_info()    \n",
    "                            \n",
    "   \n",
    "\n"
   ]
  },
  {
   "cell_type": "markdown",
   "id": "1acfbff5",
   "metadata": {},
   "source": [
    " <div style=\"font-family: Verdana; font-size: 18px; line-height: 1.6;\">\n",
    "\n",
    "__3. Private Access:__\n",
    "    \n",
    "- Denoted by: A double leading underscore (e.g., __serial_number).\n",
    "- Accessibility: Private members are only accessible within the class where they are defined and are not intended to be accessed or modified outside of it.\n",
    "- Usage: Python uses name mangling to make private members harder to access, by internally changing the name of the attribute or method.\n",
    "    \n",
    "__Example:__\n",
    "    \n",
    "```python\n",
    "class Car:\n",
    "    def __init__(self, make, model, serial_number):\n",
    "        self.make = make\n",
    "        self.model = model\n",
    "        self.__serial_number = serial_number  # Private attribute\n",
    "\n",
    "    def __display_serial_number(self):  # Private method\n",
    "        print(f\"Serial Number: {self.__serial_number}\")\n",
    "\n",
    "# Usage\n",
    "my_car = Car(\"Toyota\", \"Corolla\", \"123ABC\")\n",
    "# print(my_car.__serial_number)  # This will raise an AttributeError\n",
    "# my_car.__display_serial_number()  # This will also raise an AttributeError\n",
    "\n",
    "# Accessing private members \n",
    "print(my_car._Car__serial_number)   # Output: 123ABC\n",
    "my_car._Car__display_serial_number()  # Output: Serial Number: 123ABC\n",
    "\n",
    "   "
   ]
  },
  {
   "cell_type": "markdown",
   "id": "32d19067",
   "metadata": {},
   "source": [
    "<div style=\"font-family: Verdana; font-size: 18px; line-height: 1.6;\">\n",
    "    \n",
    "</div><div style=\"font-family: Verdana; font-size: 18px; line-height: 1.6;\">\n",
    "    \n",
    "</div>"
   ]
  },
  {
   "cell_type": "markdown",
   "id": "276d330f",
   "metadata": {},
   "source": [
    "<div style=\"font-family: Verdana; font-size: 20px; font-weight: bold; color: black;\">\n",
    "Question 6: Describe the five types of inheritance in Python. Provide a simple example.\n",
    "    \n",
    "</div>"
   ]
  },
  {
   "cell_type": "markdown",
   "id": "2d9d0177",
   "metadata": {},
   "source": [
    " <div style=\"font-family: Verdana; font-size: 18px; line-height: 1.6;\">\n",
    "Inheritance is a way to allow one class to inherit the attributes and methods of another class. This enables code reuse and the creation of more complex class structures.There are five common types of inheritance in Python:\n",
    "    \n",
    "__1. Single Inheritance:__\n",
    "    In single inheritance, a derived class inherits from a single base class.\n",
    "    \n",
    "Example: \n",
    "```python\n",
    "\n",
    "class Animal:\n",
    "    def speak(self):\n",
    "        print(\"Animal speaks\")\n",
    "\n",
    "class Dog(Animal):  # Dog inherits from Animal\n",
    "    def bark(self):\n",
    "        print(\"Dog barks\")\n",
    "\n",
    "# Usage\n",
    "dog = Dog()\n",
    "dog.speak()  # Inherited method\n",
    "dog.bark()   # Dog-specific method\n",
    "        "
   ]
  },
  {
   "cell_type": "markdown",
   "id": "32ddba08",
   "metadata": {},
   "source": [
    " <div style=\"font-family: Verdana; font-size: 18px; line-height: 1.6;\">\n",
    "    \n",
    "__2. Multiple Inheritance:__\n",
    "    \n",
    "    In multiple inheritance, a derived class inherits from more than one base class.\n",
    "    \n",
    "__Example:__\n",
    "```python\n",
    "\n",
    "class Animal:\n",
    "    def speak(self):\n",
    "        print(\"Animal speaks\")\n",
    "\n",
    "class Mammal:\n",
    "    def breathe(self):\n",
    "        print(\"Mammal breathes\")\n",
    "\n",
    "class Dog(Animal, Mammal):  # Dog inherits from both Animal and Mammal\n",
    "    def bark(self):\n",
    "        print(\"Dog barks\")\n",
    "\n",
    "# Usage\n",
    "dog = Dog()\n",
    "dog.speak()    # Inherited from Animal\n",
    "dog.breathe()  # Inherited from Mammal\n",
    "dog.bark()     # Dog-specific method\n",
    "\n",
    "        "
   ]
  },
  {
   "cell_type": "markdown",
   "id": "4084b484",
   "metadata": {},
   "source": [
    " <div style=\"font-family: Verdana; font-size: 18px; line-height: 1.6;\">\n",
    "    \n",
    "__3. Multilevel Inheritance:__\n",
    "    \n",
    "In multilevel inheritance, a derived class inherits from another derived class, forming a chain of inheritance.\n",
    "    \n",
    "__Example:__\n",
    "```python\n",
    "\n",
    "class Grandfather:\n",
    "    def show(self):\n",
    "        print(\"This is Grand father Method\")\n",
    "    \n",
    " # Father inherits from Grandfather\n",
    "class Father(Grandfather): \n",
    "    def display(self):\n",
    "        print(\"This is Father Method\")\n",
    "\n",
    "# Son inherits from Father (and indirectly from Grandfather)\n",
    "class Son(Father):  \n",
    "    def say_hello(self):\n",
    "        print(\"Hello I am the son\")\n",
    "\n",
    "# Usage\n",
    "son_obj = Son()\n",
    "son_obj.say_hello()    # Calls the son's Method\n",
    "son_obj.display()  # Calls the Father Method\n",
    "son_obj.show()     # Calls the GrandFather Method\n"
   ]
  },
  {
   "cell_type": "markdown",
   "id": "d2e21d35",
   "metadata": {},
   "source": [
    " <div style=\"font-family: Verdana; font-size: 18px; line-height: 1.6;\">\n",
    "    \n",
    "__4. Hierarchical Inheritance:__\n",
    "    \n",
    "In hierarchical inheritance, multiple derived classes inherit from the same base class.\n",
    "    \n",
    "__Example:__\n",
    "```python\n",
    "class Animal:\n",
    "    def speak(self):\n",
    "        print(\"Animal speaks\")\n",
    "\n",
    "# Dog inherits from Animal\n",
    "class Dog(Animal): \n",
    "    def bark(self):\n",
    "        print(\"Dog barks\")\n",
    "\n",
    "# Cat also inherits from Animal\n",
    "class Cat(Animal):  \n",
    "    def meow(self):\n",
    "        print(\"Cat meows\")\n",
    "\n",
    "# Usage\n",
    "dog = Dog()\n",
    "dog.speak()  # Inherited from Animal\n",
    "dog.bark()   # Dog-specific method\n",
    "\n",
    "cat = Cat()\n",
    "cat.speak()  # Inherited from Animal\n",
    "cat.meow()   # Cat-specific method\n"
   ]
  },
  {
   "cell_type": "markdown",
   "id": "fa336921",
   "metadata": {},
   "source": [
    " <div style=\"font-family: Verdana; font-size: 18px; line-height: 1.6;\">\n",
    "    \n",
    "__5. Hybrid Inheritance:__\n",
    "    \n",
    "Hybrid inheritance is a combination of two or more types of inheritance.\n",
    "    \n",
    "__Example:__\n",
    "```python\n",
    "class Animal:\n",
    "    def speak(self):\n",
    "        print(\"Animal speaks\")\n",
    "\n",
    "class Mammal(Animal):  # Mammal inherits from Animal\n",
    "    def breathe(self):\n",
    "        print(\"Mammal breathes\")\n",
    "\n",
    "class Bird(Animal):  # Bird inherits from Animal\n",
    "    def fly(self):\n",
    "        print(\"Bird flies\")\n",
    "\n",
    "    \n",
    "# Bat inherits from both Mammal and Bird\n",
    "class Bat(Mammal, Bird): \n",
    "    def hang(self):\n",
    "        print(\"Bat hangs upside down\")\n",
    "\n",
    "# Usage\n",
    "bat = Bat()\n",
    "bat.speak()   # Inherited from Animal\n",
    "bat.breathe() # Inherited from Mammal\n",
    "bat.fly()     # Inherited from Bird\n",
    "bat.hang()    # Bat-specific method\n"
   ]
  },
  {
   "cell_type": "markdown",
   "id": "929e06be",
   "metadata": {},
   "source": [
    "<div style=\"font-family: Verdana; font-size: 20px; font-weight: bold; color: black;line-height:1.6\">\n",
    "Question 7 : What is the Method Resolution Order (MRO) in Python? How can you retrieve it programmatically??\n",
    "    \n",
    "</div>"
   ]
  },
  {
   "cell_type": "markdown",
   "id": "718c3c77",
   "metadata": {},
   "source": [
    " <div style=\"font-family: Verdana; font-size: 18px; line-height: 1.6;\">\n",
    "\n",
    "The Method Resolution Order (MRO) is the order in which Python searches for a method in the class hierarchy. When a method is called on an object, Python needs to decide which method to execute, especially in the case of multiple inheritance or complex class hierarchies. The MRO defines this search order.\n",
    "    \n",
    "__Working:__   \n",
    "C3 Linearization: Python's MRO uses the C3 Linearization algorithm, which is a way of linearizing the inheritance graph in a way that respects method overriding and ensures that classes are visited in a consistent and predictable order.\n",
    "\n",
    "For example, in multiple inheritance, the MRO helps Python decide whether to call the method from the first base class or the second base class.\n",
    "    \n",
    "    \n",
    "```python\n",
    "class A:\n",
    "    def method(self):\n",
    "        print(\"Method in class A\")\n",
    "\n",
    "class B(A):\n",
    "    def method(self):\n",
    "        print(\"Method in class B\")\n",
    "\n",
    "class C(A):\n",
    "    def method(self):\n",
    "        print(\"Method in class C\")\n",
    "\n",
    "class D(B, C):  # D inherits from B and C\n",
    "    pass\n",
    "\n",
    "# Create an instance of D\n",
    "d = D()\n",
    "    \n",
    "        \n",
    "# This will call the method based on the MRO\n",
    "d.method()  \n",
    "\n",
    "# To retrieve the method Order\n",
    "print(D.mro()) \n",
    "    \n",
    "    "
   ]
  },
  {
   "cell_type": "markdown",
   "id": "db4e454a",
   "metadata": {},
   "source": [
    " <div style=\"font-family: Verdana; font-size: 16px; font-weight: bold; color: black;line-height:1.6\">\n",
    "Question 8 :   Create an abstract base class `Shape` with an abstract method `area()`. Then create two subclasses \n",
    "`Circle` and `Rectangle` that implement the `area()` method?\n",
    "    \n",
    "</div>"
   ]
  },
  {
   "cell_type": "code",
   "execution_count": 27,
   "id": "1ee548a9",
   "metadata": {},
   "outputs": [
    {
     "name": "stdout",
     "output_type": "stream",
     "text": [
      "Area of Circle: 78.53981633974483\n",
      "Area of Rectangle: 24\n"
     ]
    }
   ],
   "source": [
    "from abc import ABC, abstractmethod\n",
    "import math\n",
    "\n",
    "# Abstract base class\n",
    "class Shape(ABC):\n",
    "    @abstractmethod\n",
    "    def area(self):\n",
    "        pass\n",
    "\n",
    "# Subclass for Circle\n",
    "class Circle(Shape):\n",
    "    def __init__(self, radius):\n",
    "        self.radius = radius\n",
    "\n",
    "    def area(self):\n",
    "        return math.pi * (self.radius ** 2)\n",
    "\n",
    "# Subclass for Rectangle\n",
    "class Rectangle(Shape):\n",
    "    def __init__(self, width, height):\n",
    "        self.width = width\n",
    "        self.height = height\n",
    "\n",
    "    def area(self):\n",
    "        return self.width * self.height\n",
    "\n",
    "# Usage\n",
    "circle = Circle(5)\n",
    "print(\"Area of Circle:\", circle.area())\n",
    "\n",
    "rectangle = Rectangle(4, 6)\n",
    "print(\"Area of Rectangle:\", rectangle.area())  \n"
   ]
  },
  {
   "cell_type": "markdown",
   "id": "d1278c40",
   "metadata": {},
   "source": [
    " <div style=\"font-family: Verdana; font-size: 20px; font-weight: bold; color: black;line-height:1.6\">\n",
    "Question 9 :Demonstrate polymorphism by creating a function that can work with different shape objects to calculate \n",
    "and print their areas?\n",
    "    \n",
    "</div>"
   ]
  },
  {
   "cell_type": "code",
   "execution_count": 28,
   "id": "aab0f788",
   "metadata": {},
   "outputs": [
    {
     "name": "stdout",
     "output_type": "stream",
     "text": [
      "The area of the shape is: 78.53981633974483\n",
      "The area of the shape is: 24\n",
      "The area of the shape is: 6.0\n"
     ]
    }
   ],
   "source": [
    "import math\n",
    "from abc import abstractmethod,ABC\n",
    "# Lets define a base Shape class with an abstract method for area\n",
    "class Shape(ABC):\n",
    "    @abstractmethod\n",
    "    def area(self,):\n",
    "        pass\n",
    "\n",
    "# Circle class implementing the area method\n",
    "class Circle(Shape):\n",
    "    def __init__(self, radius):\n",
    "        self.radius = radius\n",
    "\n",
    "    def area(self):\n",
    "        return math.pi * (self.radius ** 2)\n",
    "\n",
    "# Rectangle class implementing the area method\n",
    "class Rectangle(Shape):\n",
    "    def __init__(self, width, height):\n",
    "        self.width = width\n",
    "        self.height = height\n",
    "\n",
    "    def area(self):\n",
    "        return self.width * self.height\n",
    "\n",
    "# Triangle class implementing the area method\n",
    "class Triangle(Shape):\n",
    "    def __init__(self, base, height):\n",
    "        self.base = base\n",
    "        self.height = height\n",
    "\n",
    "    def area(self):\n",
    "        return 0.5 * self.base * self.height\n",
    "\n",
    "# Function that works polymorphically with different shapes\n",
    "def print_area(shape):\n",
    "    if not isinstance(shape, Shape):\n",
    "        raise TypeError(\"The object must be a Shape\")\n",
    "    print(f\"The area of the shape is: {shape.area()}\")\n",
    "\n",
    "# Test cases\n",
    "circle = Circle(radius=5)\n",
    "rectangle = Rectangle(width=4, height=6)\n",
    "triangle = Triangle(base=3, height=4)\n",
    "\n",
    "print_area(circle)       # The area of the Circle is: 78.54\n",
    "print_area(rectangle)    # The area of the Rectangle is: 24\n",
    "print_area(triangle)     # The area of the Triangle is: 6.0\n",
    "\n",
    "    "
   ]
  },
  {
   "cell_type": "markdown",
   "id": "faab9207",
   "metadata": {},
   "source": [
    " <div style=\"font-family: Verdana; font-size: 20px; font-weight: bold; color: black;line-height:1.6\">\n",
    "    \n",
    "Question 10 :  Implement encapsulation in a BankAccount class with private attributes for balance and \n",
    "account_number. Include methods for deposit, withdrawal, and balance inquiry?\n",
    "    \n",
    "</div>\n"
   ]
  },
  {
   "cell_type": "code",
   "execution_count": 8,
   "id": "c8e62e60",
   "metadata": {},
   "outputs": [
    {
     "name": "stdout",
     "output_type": "stream",
     "text": [
      "BankAccount(owner='deepak', balance=55000)\n",
      "BankAccount(owner='saranya', balance=67000)\n",
      "Merged Account : BankAccount(owner='deepak & saranya', balance=122000)\n"
     ]
    }
   ],
   "source": [
    "class BankAccount:\n",
    "    def __init__(self, owner , balance):\n",
    "        \n",
    "        self.owner = owner \n",
    "        self.balance = balance\n",
    "        \n",
    "    # Override __str__ for a user-friendly representation\n",
    "    def __str__(self):\n",
    "        return f\"BankAccount(owner='{self.owner}', balance={self.balance})\"\n",
    "\n",
    "    # Override __add__ to combine balances of two accounts\n",
    "    def __add__(self, other):\n",
    "        if isinstance(other, BankAccount):\n",
    "            return BankAccount(owner=f\"{self.owner} & {other.owner}\", balance=self.balance + other.balance)\n",
    "        return NotImplemented\n",
    "        \n",
    "# Example\n",
    "deepak_account = BankAccount(owner = \"deepak\" , balance = 55000 )\n",
    "saranya_account = BankAccount(owner = \"saranya\" , balance = 67000)\n",
    "\n",
    "# String representation\n",
    "print(str(deepak_account))\n",
    "print(str(saranya_account))\n",
    "\n",
    "# Lets Merge Both Accounts\n",
    "merged_account = deepak_account + saranya_account\n",
    "print(f\"Merged Account : {str(merged_account)}\")"
   ]
  },
  {
   "cell_type": "markdown",
   "id": "f022b248",
   "metadata": {},
   "source": [
    "<div style=\"font-family: Verdana; font-size: 18px; line-height: 1.6;\">\n",
    "    \n",
    "</div><div style=\"font-family: Verdana; font-size: 18px; line-height: 1.6;\">\n",
    "    \n",
    "</div>"
   ]
  },
  {
   "cell_type": "markdown",
   "id": "4b198504-9708-49d5-bcf7-f57f33f4be88",
   "metadata": {},
   "source": [
    "<div style=\"font-family: Verdana; font-size: 16px; font-weight: bold; color: black;line-height:1.6\">\n",
    "Question 12:  Create a decorator that measures and prints the execution time of a function?\n",
    "</div>"
   ]
  },
  {
   "cell_type": "code",
   "execution_count": 29,
   "id": "99404722",
   "metadata": {},
   "outputs": [
    {
     "name": "stdout",
     "output_type": "stream",
     "text": [
      "Time Taken for executing the function : 7.2003138065338135\n"
     ]
    }
   ],
   "source": [
    "from time import time\n",
    "\n",
    "# Decorator Function\n",
    "def track_execution_time(func):\n",
    "    def wrapper(*args):\n",
    "        start_time = time()\n",
    "        result  = func(*args)\n",
    "        end_time = time()\n",
    "        elapsed_time = end_time - start_time\n",
    "        print(f\"Time Taken for executing the function : {elapsed_time}\")\n",
    "        return result\n",
    "    return wrapper\n",
    "\n",
    "@track_execution_time\n",
    "def square(lst):\n",
    "    return list(map(lambda i : i**2, lst))\n",
    "\n",
    "\n",
    "# Example \n",
    "lst = list(range(1,20000000))\n",
    "squared_lst = square(lst)\n",
    "    "
   ]
  },
  {
   "cell_type": "markdown",
   "id": "66f24bef-3907-442a-9f97-86ab1d6fbaad",
   "metadata": {},
   "source": [
    "<div style=\"font-family: Verdana; font-size: 16px; font-weight: bold; color: black;line-heigth:1.6\">\n",
    "Question 13: Explain the concept of the Diamond Problem in multiple inheritance.How does Python resolve it\n",
    "    \n",
    "</div>"
   ]
  },
  {
   "cell_type": "markdown",
   "id": "87df3602",
   "metadata": {},
   "source": [
    " <div style=\"font-family: Verdana; font-size: 18px; line-height: 1.6;\">\n",
    "\n",
    "The Diamond Problem happens when a class inherits from two classes that both inherit from a common ancestor. This setup creates confusion about which path to take to reach the ancestor’s methods or attributes.\n",
    "    \n",
    "__Python Uses MRO Algorithm__\n",
    "    \n",
    "Python uses a set of rules called Method Resolution Order (MRO) to decide. MRO is like a recipe that lists the order in which classes are checked. It goes depth-first and left-to-right and ensures each class is checked only once, even if it appears multiple times."
   ]
  },
  {
   "cell_type": "markdown",
   "id": "d2ef95f3",
   "metadata": {},
   "source": [
    " <div style=\"font-family: Verdana; font-size: 18px; line-height: 1.6;\">\n",
    "\n",
    "The Method Resolution Order (MRO) is the order in which Python searches for a method in the class hierarchy. When a method is called on an object, Python needs to decide which method to execute, especially in the case of multiple inheritance or complex class hierarchies. The MRO defines this search order.\n",
    "    \n",
    "__Working:__   \n",
    "C3 Linearization: Python's MRO uses the C3 Linearization algorithm, which is a way of linearizing the inheritance graph in a way that respects method overriding and ensures that classes are visited in a consistent and predictable order.\n",
    "\n",
    "For example, in multiple inheritance, the MRO helps Python decide whether to call the method from the first base class or the second base class.\n",
    "    \n",
    "    \n",
    "```python\n",
    "class A:\n",
    "    def method(self):\n",
    "        print(\"Method in class A\")\n",
    "\n",
    "class B(A):\n",
    "    def method(self):\n",
    "        print(\"Method in class B\")\n",
    "\n",
    "class C(A):\n",
    "    def method(self):\n",
    "        print(\"Method in class C\")\n",
    "\n",
    "class D(B, C):  # D inherits from B and C\n",
    "    pass\n",
    "\n",
    "# Create an instance of D\n",
    "d = D()\n",
    "    \n",
    "        \n",
    "# This will call the method based on the MRO\n",
    "d.method()  \n",
    "\n",
    "# To retrieve the method Order\n",
    "print(D.mro()) \n",
    "    \n",
    "    "
   ]
  },
  {
   "cell_type": "markdown",
   "id": "4f711412",
   "metadata": {},
   "source": [
    "<div style=\"font-family: Verdana; font-size: 18px; line-height: 1.6;\">\n",
    "    \n",
    "</div><div style=\"font-family: Verdana; font-size: 18px; line-height: 1.6;\">\n",
    "    \n",
    "</div>"
   ]
  },
  {
   "cell_type": "markdown",
   "id": "23f35fb7",
   "metadata": {},
   "source": [
    "<div style=\"font-family: Verdana; font-size: 16px; font-weight: bold; color: black;\">\n",
    "Question 14: Write a class method that keeps track of the number of instances created from a class.\n",
    "    \n",
    "</div>"
   ]
  },
  {
   "cell_type": "code",
   "execution_count": 24,
   "id": "2710526b",
   "metadata": {},
   "outputs": [
    {
     "data": {
      "text/plain": [
       "'Total cars created: 3'"
      ]
     },
     "execution_count": 24,
     "metadata": {},
     "output_type": "execute_result"
    }
   ],
   "source": [
    "class Car:\n",
    "    car_count = 0  # Class attribute\n",
    "\n",
    "    def __init__(self, make, model, year):\n",
    "        self.make = make\n",
    "        self.model = model\n",
    "        self.year = year\n",
    "        Car.car_count += 1\n",
    "\n",
    "    @classmethod\n",
    "    def total_cars(cls):  # Class method\n",
    "        return f\"Total cars created: {cls.car_count}\"\n",
    "    \n",
    "# Example\n",
    "tata_car = Car(make = \"Tata\" , model = \"Safari\" , year=  2022)\n",
    "toyoto_car = Car(make = \"toyoto\" , model = \"etios\" , year=  2023)\n",
    "suzuki_car = Car(make = \"suzuki\" , model = \"waganor\" , year=  2024)\n",
    "\n",
    "Car.total_cars()"
   ]
  },
  {
   "cell_type": "markdown",
   "id": "2bd96bc1",
   "metadata": {},
   "source": [
    "<div style=\"font-family: Verdana; font-size: 18px; line-height: 1.6;\">\n",
    "    \n",
    "</div><div style=\"font-family: Verdana; font-size: 18px; line-height: 1.6;\">\n",
    "    \n",
    "</div>"
   ]
  },
  {
   "cell_type": "markdown",
   "id": "c74be2de",
   "metadata": {},
   "source": [
    "<div style=\"font-family: Verdana; font-size: 16px; font-weight: bold; color: black;\">\n",
    "Question 15: Implement a static method in a class that checks if a given year is a leap year.\n",
    "    \n",
    "</div>"
   ]
  },
  {
   "cell_type": "code",
   "execution_count": 30,
   "id": "4d4ed1bb",
   "metadata": {},
   "outputs": [
    {
     "name": "stdout",
     "output_type": "stream",
     "text": [
      "True\n",
      "False\n",
      "True\n",
      "False\n"
     ]
    }
   ],
   "source": [
    "class DateUtils:\n",
    "    \"\"\"\n",
    "    A year is a leap year if:\n",
    "         1. It is divisible by 4\n",
    "         2. It is not divisible by 100, unless it is also divisible by 400\"\"\"\n",
    "    @staticmethod         \n",
    "    def is_leap_year(year):\n",
    "        if (year % 4 == 0 and year % 100 != 0) or (year % 400 == 0):\n",
    "            return True\n",
    "        else:\n",
    "            return False\n",
    "\n",
    "# Example usage\n",
    "print(DateUtils.is_leap_year(2020))  # Output: True (2020 is a leap year)\n",
    "print(DateUtils.is_leap_year(2021))  # Output: False (2021 is not a leap year)\n",
    "print(DateUtils.is_leap_year(2000))  # Output: True (2000 is a leap year)\n",
    "print(DateUtils.is_leap_year(1900))  # Output: False (1900 is not a leap year)\n"
   ]
  },
  {
   "cell_type": "markdown",
   "id": "d81f6178",
   "metadata": {},
   "source": [
    "<div style=\"font-family: Verdana; font-size: 18px; line-height: 1.6;\">\n",
    "    \n",
    "</div><div style=\"font-family: Verdana; font-size: 18px; line-height: 1.6;\">\n",
    "    \n",
    "</div>"
   ]
  }
 ],
 "metadata": {
  "kernelspec": {
   "display_name": "Python 3 (ipykernel)",
   "language": "python",
   "name": "python3"
  },
  "language_info": {
   "codemirror_mode": {
    "name": "ipython",
    "version": 3
   },
   "file_extension": ".py",
   "mimetype": "text/x-python",
   "name": "python",
   "nbconvert_exporter": "python",
   "pygments_lexer": "ipython3",
   "version": "3.10.1"
  }
 },
 "nbformat": 4,
 "nbformat_minor": 5
}
