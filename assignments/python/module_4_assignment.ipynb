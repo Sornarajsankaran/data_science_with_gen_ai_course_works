{
 "cells": [
  {
   "cell_type": "markdown",
   "id": "82355b7b-3647-4b16-a8d5-ac73b34af2d7",
   "metadata": {},
   "source": [
    "<style>\n",
    "    body {\n",
    "        font-family: Verdana, Geneva, sans-serif;\n",
    "    }\n",
    "</style>"
   ]
  },
  {
   "cell_type": "markdown",
   "id": "fe752c8b-1c7b-434a-997f-2e59314707b3",
   "metadata": {
    "tags": []
   },
   "source": [
    "___\n",
    "#  PYTHON - MODULE 4 ASSIGNMENT\n",
    "---\n"
   ]
  },
  {
   "cell_type": "markdown",
   "id": "0493d2a8-cc3b-4294-a1ff-0b857c528376",
   "metadata": {},
   "source": [
    "<div style=\"font-family: Verdana; font-size: 20px; font-weight: bold; color: black;\">\n",
    "Question 1: Explain the Key Features of Python that makes it a popular choice for programming?\n",
    "</div>"
   ]
  },
  {
   "cell_type": "markdown",
   "id": "8629c5f4-97d4-4297-a031-3e79c04d42ee",
   "metadata": {},
   "source": [
    "<div style=\"font-family: Verdana; font-size: 18px; line-height: 1.6;\">\n",
    "    \n",
    "The Key features of python that makes it popular choice of programming are as follows:\n",
    "\n",
    "- **Widely Used in Industry**: Python is utilized across various industries, including web development, data science, blockchain, and many more.\n",
    "- **Extensive Library Support**: Python has a vast collection of libraries and frameworks, with around 137,000 libraries available. This includes popular ones like NumPy, Pandas, TensorFlow, PyTorch, Django, and Flask, and many more.\n",
    "- **Huge Active Community**: Python has a large and active community of developers who contribute to its development, offer support, and share knowledge through forums, tutorials, and conferences.\n",
    "- **Ease of Learning**: Python's simple and intuitive syntax makes it an ideal language for beginners and experienced programmers.\n",
    "- **Readability and Simplicity**: Python code is easy to read and write, which helps in maintaining and debugging code faster and easier.\n",
    "\n",
    "</div>"
   ]
  },
  {
   "cell_type": "markdown",
   "id": "c7b96597-49d6-403d-89de-874aab000bf4",
   "metadata": {},
   "source": [
    "<div style=\"font-family: Verdana; font-size: 20px; font-weight: bold; color: black;\">\n",
    "Question 2 : Describe the role of predefined keywords in Python and provide examples of how they are used in a program?\n",
    "</div>"
   ]
  },
  {
   "cell_type": "markdown",
   "id": "0c45461b-de9d-43a6-823b-9cc6c819f445",
   "metadata": {},
   "source": [
    "<div style=\"font-family: Verdana; font-size: 18px; line-height: 1.6;\">\n",
    "    \n",
    "Keywords in Python are reserved words that have a special meaning and purpose in the language. These keywords are part of the syntax and cannot be used as variables. In python we can see all the list of keywords using the command `help(\"keywords\")`\n",
    "    \n",
    "</div>"
   ]
  },
  {
   "cell_type": "code",
   "execution_count": 1,
   "id": "bc4897f9-9f1c-4dfc-a527-ca69fe69778e",
   "metadata": {},
   "outputs": [
    {
     "name": "stdout",
     "output_type": "stream",
     "text": [
      "\n",
      "Here is a list of the Python keywords.  Enter any keyword to get more help.\n",
      "\n",
      "False               class               from                or\n",
      "None                continue            global              pass\n",
      "True                def                 if                  raise\n",
      "and                 del                 import              return\n",
      "as                  elif                in                  try\n",
      "assert              else                is                  while\n",
      "async               except              lambda              with\n",
      "await               finally             nonlocal            yield\n",
      "break               for                 not                 \n",
      "\n"
     ]
    }
   ],
   "source": [
    "help(\"keywords\")"
   ]
  },
  {
   "cell_type": "markdown",
   "id": "9c2a5287-d1c1-4b89-94ff-fa9e4e5cf4b2",
   "metadata": {},
   "source": [
    "<div style=\"font-family: Verdana; font-size: 18px; line-height: 1.6;\">\n",
    "\n",
    "Each of these keywords serves a specific purpose in the Python language. Here are some examples of how they are used:\n",
    "    \n",
    "- Keywords like **if, elif, else, for, while, break, continue, and pass** are used to **control the flow** of the program\n",
    "- Keywords like **try, except, finally, raise, and assert** are used for **error handling**.\n",
    "- Keywords like **def, return, lambda, class** are used for defining **functions and classes**.   \n",
    "- Keywords like **True, False, None** are used to define **constants and Boolean values**.\n",
    "- Keywords like **import, from, as, global, nonlocal** manage **modules and scope**.\n",
    "- Keywords like **async, await** are used for **asynchronous programming**.\n",
    "</div>"
   ]
  },
  {
   "cell_type": "code",
   "execution_count": 2,
   "id": "c3f77e1f-36d0-4522-b7a4-7abf315792e3",
   "metadata": {},
   "outputs": [],
   "source": [
    "# Example of  how keywords are used in program.\n",
    "# Here 'map' , 'lambda' are predefined keywords used for specific purpose.\n",
    "# lambda : Used for creating anonymous function and map is used for applying a given function to eacch element in the iterable.\n",
    "\n",
    "lst = [1,2,3,4,5,] \n",
    "squared_lst = list(map(lambda i : i**2, lst))\n"
   ]
  },
  {
   "cell_type": "markdown",
   "id": "66c02e7b-8246-40ab-9eea-1933000404b2",
   "metadata": {},
   "source": [
    "<div style=\"font-family: Verdana; font-size: 20px; font-weight: bold; color: black;\">\n",
    "Question 3 : Compare and Contrast Mutable and Immutable objects in python with examples?\n",
    "</div>"
   ]
  },
  {
   "cell_type": "markdown",
   "id": "34b85def-1771-4b13-8698-7a620adfe4e3",
   "metadata": {},
   "source": [
    "<div style=\"font-family: Verdana; font-size: 18px; line-height: 1.6;\">\n",
    "    \n",
    "| MUTABLE OBJECTS                                  | IMMUTABLE OBJECTS                                  |\n",
    "|---------------------------------------------------|----------------------------------------------------|\n",
    "|  Objects whose state or content can be changed after they are created. Changes to mutable objects are applied directly to the original object, and the object itself is modified in place. |  Objects whose state or content cannot be changed once they are created. Any modification results in the creation of a new object rather than altering the original object. |\n",
    "| **Examples**:                                     | **Examples**:                                      |\n",
    "| - Lists                                           | - Integers                                         |\n",
    "| - Dictionaries                                    | - Floats                                           |\n",
    "| - Sets                                            | - Strings                                          |\n",
    "| - User-defined objects (instances of classes)    | - Tuples                                           |\n",
    "\n",
    "\n",
    "</div>\n"
   ]
  },
  {
   "cell_type": "markdown",
   "id": "e7c6d2b3-c6aa-40a2-9e1b-01bef66e51b1",
   "metadata": {},
   "source": [
    "<div style=\"font-family: Verdana; font-size: 20px; font-weight: bold; color: black;\">\n",
    "Question 4 : Discuss the different types of operators in python and provide examples of how they are used in program?\n",
    "</div>"
   ]
  },
  {
   "cell_type": "markdown",
   "id": "2d7144d8-2d8d-4890-96f3-37340825d728",
   "metadata": {},
   "source": [
    "<div style=\"font-family: Verdana; font-size: 18px; line-height: 1.6;\">\n",
    "\n",
    "Python supports various types of operators, each serving a different purpose. Here’s an overview of the different types:\n",
    "\n",
    "**1. Arithmetic Operators** \n",
    "\n",
    "These operators are used to perform basic arithmetic operations.\n",
    "\n",
    "| Operator | Description            | Example     |\n",
    "|----------|------------------------|-------------|\n",
    "| `+`      | Addition                | `5 + 3` → `8` |\n",
    "| `-`      | Subtraction             | `5 - 3` → `2` |\n",
    "| `*`      | Multiplication          | `5 * 3` → `15` |\n",
    "| `/`      | Division                | `5 / 2` → `2.5` |\n",
    "| `//`     | Floor Division          | `5 // 2` → `2` |\n",
    "| `%`      | Modulus (Remainder)     | `5 % 2` → `1` |\n",
    "| `**`     | Exponentiation          | `5 ** 2` → `25` |\n",
    "\n",
    "\n",
    "**Example:**\n",
    "```python\n",
    "a = 10\n",
    "b = 3\n",
    "print(\"Addition:\", a + b)       # 13\n",
    "print(\"Subtraction:\", a - b)    # 7\n",
    "print(\"Multiplication:\", a * b) # 30\n",
    "print(\"Division:\", a / b)       # 3.3333\n",
    "print(\"Floor Division:\", a // b) # 3\n",
    "print(\"Modulus:\", a % b)        # 1\n",
    "print(\"Exponentiation:\", a ** b) # 1000\n"
   ]
  },
  {
   "cell_type": "markdown",
   "id": "5ea76556-bb59-4dc2-a17c-5769a4ebdd09",
   "metadata": {},
   "source": [
    "<div style=\"font-family: Verdana; font-size: 18px; line-height: 1.6;\">\n",
    "    \n",
    "**Comparison Operators**\n",
    "\n",
    "These operators are used to compare two values.\n",
    "\n",
    "| Operator | Description              | Example       |\n",
    "|----------|--------------------------|---------------|\n",
    "| `==`     | Equal to                 | `5 == 3` → `False` |\n",
    "| `!=`     | Not equal to             | `5 != 3` → `True` |\n",
    "| `>`      | Greater than             | `5 > 3` → `True` |\n",
    "| `<`      | Less than                | `5 < 3` → `False` |\n",
    "| `>=`     | Greater than or equal to | `5 >= 3` → `True` |\n",
    "| `<=`     | Less than or equal to    | `5 <= 3` → `False` |\n",
    "\n",
    "**Example:**\n",
    "```python\n",
    "a = 10\n",
    "b = 3\n",
    "print(\"Equal to:\", a == b)        # False\n",
    "print(\"Not equal to:\", a != b)    # True\n",
    "print(\"Greater than:\", a > b)     # True\n",
    "print(\"Less than:\", a < b)        # False\n",
    "print(\"Greater than or equal to:\", a >= b) # True\n",
    "print(\"Less than or equal to:\", a <= b)    # False\n",
    "\n",
    "\n"
   ]
  },
  {
   "cell_type": "markdown",
   "id": "bbd45508-949a-4e96-b683-fd23b1147bb7",
   "metadata": {},
   "source": [
    "<div style=\"font-family: Verdana; font-size: 18px; line-height: 1.6;\">\n",
    "\n",
    "**Logical Operators**\n",
    "\n",
    "These operators are used to perform logical operations.\n",
    "\n",
    "| Operator | Description               | Example       |\n",
    "|----------|---------------------------|---------------|\n",
    "| `and`    | Logical AND               | `(5 > 3) and (2 > 1)` → `True` |\n",
    "| `or`     | Logical OR                | `(5 > 3) or (2 < 1)` → `True` |\n",
    "| `not`    | Logical NOT               | `not (5 > 3)` → `False` |\n",
    "\n",
    "**Example:**\n",
    "```python\n",
    "a = 10\n",
    "b = 3\n",
    "print(\"Logical AND:\", a > b and b > 0)  # True\n",
    "print(\"Logical OR:\", a > b or b < 0)   # True\n",
    "print(\"Logical NOT:\", not (a > b))     # False\n"
   ]
  },
  {
   "cell_type": "markdown",
   "id": "805100ad-7eb4-4958-9304-a4f3b85f81ca",
   "metadata": {},
   "source": [
    "<div style=\"font-family: Verdana; font-size: 18px; line-height: 1.6;\">\n",
    "    \n",
    "**Assignment Operators**\n",
    "\n",
    "These operators are used to assign values to variables.\n",
    "\n",
    "| Operator | Description               | Example       |\n",
    "|----------|---------------------------|---------------|\n",
    "| `=`      | Assignment                | `a = 10`      |\n",
    "| `+=`     | Add and assign            | `a += 5` → `15` |\n",
    "| `-=`     | Subtract and assign       | `a -= 5` → `5` |\n",
    "| `*=`     | Multiply and assign       | `a *= 5` → `50` |\n",
    "| `/=`     | Divide and assign         | `a /= 5` → `2.0` |\n",
    "| `//=`    | Floor divide and assign   | `a //= 5` → `2` |\n",
    "| `%=`     | Modulus and assign        | `a %= 5` → `0` |\n",
    "| `**=`    | Exponentiate and assign   | `a **= 2` → `100` |\n",
    "\n",
    "**Example:**\n",
    "```python\n",
    "a = 10\n",
    "a += 5  # Equivalent to a = a + 5\n",
    "print(\"Add and assign:\", a) # 15\n",
    "\n",
    "a -= 5  # Equivalent to a = a - 5\n",
    "print(\"Subtract and assign:\", a) # 10\n",
    "\n",
    "a *= 2  # Equivalent to a = a * 2\n",
    "print(\"Multiply and assign:\", a) # 20\n",
    "\n",
    "a /= 4  # Equivalent to a = a / 4\n",
    "print(\"Divide and assign:\", a) # 5.0\n"
   ]
  },
  {
   "cell_type": "markdown",
   "id": "2df644ae-b5cc-4c6c-ad26-d2b67de33644",
   "metadata": {},
   "source": [
    "<div style=\"font-family: Verdana; font-size: 18px; line-height: 1.6;\">\n",
    "\n",
    "**Membership Operators**\n",
    "\n",
    "These operators are used to test membership in sequences.\n",
    "\n",
    "| Operator | Description               | Example       |\n",
    "|----------|---------------------------|---------------|\n",
    "| `in`     | Membership test           | `'a' in 'cat'` → `True` |\n",
    "| `not in` | Non-membership test       | `'b' not in 'cat'` → `True` |\n",
    "\n",
    "**Example:**\n",
    "```python\n",
    "my_list = [1, 2, 3, 4, 5]\n",
    "print(\"1 in list:\", 1 in my_list)    # True\n",
    "print(\"6 not in list:\", 6 not in my_list) # True\n",
    "\n",
    "my_str = \"hello\"\n",
    "print(\"'e' in string:\", 'e' in my_str)    # True\n",
    "print(\"'a' not in string:\", 'a' not in my_str) # True\n"
   ]
  },
  {
   "cell_type": "markdown",
   "id": "79f61784-13fb-49ce-8106-86c446abc534",
   "metadata": {},
   "source": [
    "<div style=\"font-family: Verdana; font-size: 18px; line-height: 1.6;\">\n",
    "\n",
    "**Identity Operators**\n",
    "\n",
    "These operators are used to compare the memory locations of two objects.\n",
    "\n",
    "| Operator | Description               | Example       |\n",
    "|----------|---------------------------|---------------|\n",
    "| `is`     | Identity test             | `a is b`      |\n",
    "| `is not` | Non-identity test         | `a is not b`  |\n",
    "\n",
    "**Example:**\n",
    "```python\n",
    "a = [1, 2, 3]\n",
    "b = a\n",
    "c = [1, 2, 3]\n",
    "\n",
    "print(\"a is b:\", a is b)        # True\n",
    "print(\"a is c:\", a is c)        # False\n",
    "print(\"a is not c:\", a is not c) # True\n"
   ]
  },
  {
   "cell_type": "markdown",
   "id": "67d4d40f-69f2-4105-ae47-8b01f9bb52c2",
   "metadata": {},
   "source": [
    "<div style=\"font-family: Verdana; font-size: 18px; line-height: 1.6;\">\n",
    "    \n",
    "**Bitwise Operators**\n",
    "\n",
    "These operators perform bitwise operations on integers.\n",
    "\n",
    "| Operator | Description               | Example       |\n",
    "|----------|---------------------------|---------------|\n",
    "| `&`      | Bitwise AND               | `5 & 3` → `1` |\n",
    "| `^`      | Bitwise XOR               | `5 ^ 3` → `6` |\n",
    "| `~`      | Bitwise NOT               | `~5` → `-6`   |\n",
    "| `<<`     | Bitwise left shift        | `5 << 1` → `10` |\n",
    "| `>>`     | Bitwise right shift       | `5 >> 1` → `2` |\n",
    "\n",
    "\n",
    "**Example:**\n",
    "```python\n",
    "a = 5  # Binary: 0101\n",
    "b = 3  # Binary: 0011\n",
    "\n",
    "print(\"Bitwise AND:\", a & b)   # 1 (Binary: 0001)\n",
    "print(\"Bitwise OR:\", a | b)    # 7 (Binary: 0111)\n",
    "print(\"Bitwise XOR:\", a ^ b)   # 6 (Binary: 0110)\n",
    "print(\"Bitwise NOT:\", ~a)      # -6 (Binary: 1010, two's complement)\n",
    "print(\"Bitwise left shift:\", a << 1)  # 10 (Binary: 1010)\n",
    "print(\"Bitwise right shift:\", a >> 1) # 2 (Binary: 0010)\n"
   ]
  },
  {
   "cell_type": "markdown",
   "id": "f8205486-f6b2-4429-a9ed-5354a8fbe44f",
   "metadata": {},
   "source": [
    "<div style=\"font-family: Verdana; font-size: 20px; font-weight: bold; color: black;\">\n",
    "Question 5 : Explain the concepts of type casting in python with examples?\n",
    "</div>"
   ]
  },
  {
   "cell_type": "markdown",
   "id": "08efd3f3-4cbc-4539-b9b6-32991e6a6232",
   "metadata": {},
   "source": [
    "<div style=\"font-family: Verdana; font-size: 18px; line-height: 1.6;\">\n",
    "\n",
    "**Type Casting in Python**\n",
    "\n",
    "Type casting in Python involves converting a variable from one data type to another. This is useful when you need to perform operations that require specific types. Python provides several built-in functions for type casting:\n",
    "\n",
    "1. **`int()`** - Converts a value to an integer.\n",
    "2. **`float()`** - Converts a value to a float.\n",
    "3. **`str()`** - Converts a value to a string.\n",
    "4. **`list()`** - Converts a value to a list.\n",
    "5. **`tuple()`** - Converts a value to a tuple.\n",
    "6. **`set()`** - Converts a value to a set.\n",
    "\n",
    "**Examples**\n",
    "\n",
    "```python\n",
    "# Converting a float to an integer\n",
    "float_value = 10.99\n",
    "int_value = int(float_value)\n",
    "print(int_value)  # Output: 10\n",
    "\n",
    "# Converting an integer to a float\n",
    "int_value = 10\n",
    "float_value = float(int_value)\n",
    "print(float_value)  # Output: 10.0\n",
    "\n",
    "# Converting an integer to a string\n",
    "int_value = 123\n",
    "str_value = str(int_value)\n",
    "print(str_value)  # Output: '123'\n",
    "\n",
    "# Converting a string to an integer\n",
    "str_value = '456'\n",
    "int_value = int(str_value)\n",
    "print(int_value)  # Output: 456\n",
    "\n",
    "# Converting a string to a float\n",
    "str_value = '78.9'\n",
    "float_value = float(str_value)\n",
    "print(float_value)  # Output: 78.9\n",
    "\n",
    "# Converting a string to a list of characters\n",
    "str_value = 'hello'\n",
    "list_value = list(str_value)\n",
    "print(list_value)  # Output: ['h', 'e', 'l', 'l', 'o']\n",
    "\n",
    "# Converting a list to a tuple\n",
    "list_value = [1, 2, 3]\n",
    "tuple_value = tuple(list_value)\n",
    "print(tuple_value)  # Output: (1, 2, 3)\n",
    "\n",
    "# Converting a tuple to a set\n",
    "tuple_value = (1, 2, 2, 3)\n",
    "set_value = set(tuple_value)\n",
    "print(set_value)  # Output: {1, 2, 3}\n"
   ]
  },
  {
   "cell_type": "markdown",
   "id": "c7b75d13-785f-4bdd-883f-6feb8853c048",
   "metadata": {},
   "source": [
    "<div style=\"font-family: Verdana; font-size: 20px; font-weight: bold; color: black;\">\n",
    "Question 6 : How do conditional statements work in python with example?\n",
    "</div>"
   ]
  },
  {
   "cell_type": "markdown",
   "id": "0a02fe53-cc0b-4e74-b734-b69fb491908e",
   "metadata": {},
   "source": [
    "<div style=\"font-family: Verdana; font-size: 18px; line-height: 1.6;\">\n",
    "    \n",
    "**Conditional statements** allow you to execute certain blocks of code based on whether a condition is `True` or `False`. The primary conditional statements in Python are **`if`**, **`elif`**, and **`else`**.\n",
    "\n",
    "**SYNTAX** \n",
    "```python\n",
    "if condition:\n",
    "    # Block of code executed if condition is True\n",
    "elif another_condition:\n",
    "    # Block of code executed if another_condition is True\n",
    "else:\n",
    "    # Block of code executed if none of the above conditions are True          \n"
   ]
  },
  {
   "cell_type": "markdown",
   "id": "285ac223-b4ad-4629-97a7-b579fde0c904",
   "metadata": {},
   "source": [
    "<div style=\"font-family: Verdana; font-size: 18px; line-height: 1.6;\">\n",
    "    \n",
    "**EXAMPLES**\n",
    "```python\n",
    "x = 3\n",
    "if x > 5:\n",
    "    print(\"x is greater than 5\")\n",
    "elif x==3:\n",
    "    print(\"x is equal to 3\")\n",
    "else:\n",
    "    print(\"x is not greater than 5\")\n"
   ]
  },
  {
   "cell_type": "markdown",
   "id": "bdae53c0-d616-48ad-9ab6-484b8aaee3aa",
   "metadata": {},
   "source": [
    "<div style=\"font-family: Verdana; font-size: 20px; font-weight: bold; color: black;\">\n",
    "Question 7 : Describe the different types of loops in python and their usecases with examples?\n",
    "</div>"
   ]
  },
  {
   "cell_type": "markdown",
   "id": "7f54dcc3-7856-47e1-aaab-1ffcd2e1aae6",
   "metadata": {},
   "source": [
    "<div style=\"font-family: Verdana; font-size: 18px; line-height: 1.6;\">\n",
    "\n",
    "Loops in Python are used to repeatedly execute a block of code as long as a condition is met. Python provides two main types of loops: **`for`** loops and **`while`** loops.\n",
    "\n",
    "**FOR LOOP**\n",
    "\n",
    "The `for loop` is used to iterate over a sequence (such as a list, tuple, dictionary, set, or string , range).\n",
    "\n",
    "**Use Cases:**\n",
    "- Iterating over elements in a list or tuple\n",
    "- Iterating over characters in a string\n",
    "- Iterating over keys or values in a dictionary\n",
    "- Repeating actions a specific number of times\n",
    "    \n",
    "**Example: Iterating over a list** \n",
    "```python\n",
    "fruits = ['apple', 'banana', 'cherry']\n",
    "for fruit in fruits:\n",
    "    print(fruit)\n"
   ]
  },
  {
   "cell_type": "markdown",
   "id": "335af455-1f42-402c-b4dd-fca65cd40e1d",
   "metadata": {
    "tags": []
   },
   "source": [
    "<div style=\"font-family: Verdana; font-size: 18px; line-height: 1.6;\">\n",
    "\n",
    "**WHILE LOOP**\n",
    "\n",
    "The `while loop` is used to execute a block of code as long as a condition is `True`.\n",
    "\n",
    "**Use Cases:**\n",
    "- Repeating actions while a condition is `True`\n",
    "- Creating loops with complex conditions\n",
    "- Waiting for a specific event to occur\n",
    "\n",
    "**Example of while loop**\n",
    "```python\n",
    "count = 0\n",
    "while count < 10:\n",
    "    if count == 5:\n",
    "        break\n",
    "    print(count)\n",
    "    count += 1\n"
   ]
  },
  {
   "cell_type": "markdown",
   "id": "898c9e60-a7c4-4d88-8f2c-76185d6194bb",
   "metadata": {},
   "source": []
  },
  {
   "cell_type": "markdown",
   "id": "01fc9bdb-066b-4500-b4ff-e6feb0e8b345",
   "metadata": {},
   "source": []
  },
  {
   "cell_type": "markdown",
   "id": "01a94a4f-46f9-4ca8-871e-2c7e0b76db11",
   "metadata": {},
   "source": []
  },
  {
   "cell_type": "code",
   "execution_count": null,
   "id": "0b44a2f9-7832-4eae-b07f-8a06ad282b05",
   "metadata": {},
   "outputs": [],
   "source": []
  }
 ],
 "metadata": {
  "kernelspec": {
   "display_name": "Python 3 (ipykernel)",
   "language": "python",
   "name": "python3"
  },
  "language_info": {
   "codemirror_mode": {
    "name": "ipython",
    "version": 3
   },
   "file_extension": ".py",
   "mimetype": "text/x-python",
   "name": "python",
   "nbconvert_exporter": "python",
   "pygments_lexer": "ipython3",
   "version": "3.10.8"
  }
 },
 "nbformat": 4,
 "nbformat_minor": 5
}
