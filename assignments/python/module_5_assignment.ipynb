{
 "cells": [
  {
   "cell_type": "markdown",
   "id": "4573fe7d-6621-47d3-a22e-05ca77a5be66",
   "metadata": {},
   "source": [
    "___\n",
    "#  PYTHON - MODULE 5 ASSIGNMENT\n",
    "---\n"
   ]
  },
  {
   "cell_type": "markdown",
   "id": "4b198504-9708-49d5-bcf7-f57f33f4be88",
   "metadata": {},
   "source": [
    "<div style=\"font-family: Verdana; font-size: 20px; font-weight: bold; color: black;\">\n",
    "Question 1: Discuss string slicing and provide examples?\n",
    "</div>"
   ]
  },
  {
   "cell_type": "markdown",
   "id": "fa2c76ff-4075-44fb-a0e4-93ec0e1e597d",
   "metadata": {},
   "source": [
    "<div style=\"font-family: Verdana; font-size: 18px; line-height: 1.6;\">\n",
    "    \n",
    "String slicing in Python allows you to create a substring by extracting specific parts of a string. This is done using the slice operator `:`\n",
    "\n",
    "**SYNTAX : string[start_idx : stop_idx : step]**  \n",
    " \n",
    "    \n",
    "- start is the index where the slice begins (inclusive).\n",
    "- stop is the index where the slice ends (exclusive).\n",
    "- step defines the increment between each index (optional).\n",
    "\n",
    "    \n",
    "**EXAMPLES**\n",
    "</div>"
   ]
  },
  {
   "cell_type": "code",
   "execution_count": 3,
   "id": "57edb308-6bb8-4037-92bc-9980728938e5",
   "metadata": {},
   "outputs": [
    {
     "data": {
      "text/plain": [
       "'rahdirs marugaR'"
      ]
     },
     "execution_count": 3,
     "metadata": {},
     "output_type": "execute_result"
    }
   ],
   "source": [
    "# 1 . Reverse the given string \n",
    "\n",
    "name = \"Raguram sridhar\"\n",
    "reversed_name = name[::-1]\n",
    "reversed_name"
   ]
  },
  {
   "cell_type": "code",
   "execution_count": 7,
   "id": "88adff5b-0874-4160-8c24-7e9b82e8a67d",
   "metadata": {},
   "outputs": [
    {
     "data": {
      "text/plain": [
       "'ACEGIKMOQSUWY'"
      ]
     },
     "execution_count": 7,
     "metadata": {},
     "output_type": "execute_result"
    }
   ],
   "source": [
    "# 2 . Extract the altenative characters from the given eng_alphabets variable. \n",
    "\n",
    "eng_alphabets = \"ABCDEFGHIJKLMNOPQRSTUVWXYZ\"\n",
    "\n",
    "eng_alphabets[::2]"
   ]
  },
  {
   "cell_type": "markdown",
   "id": "66f24bef-3907-442a-9f97-86ab1d6fbaad",
   "metadata": {},
   "source": [
    "<div style=\"font-family: Verdana; font-size: 20px; font-weight: bold; color: black;\">\n",
    "Question 2: Explain the Key features of a list in python?\n",
    "</div>"
   ]
  },
  {
   "cell_type": "markdown",
   "id": "bd71aba2-2178-45cf-8e80-ee302acfb40c",
   "metadata": {},
   "source": [
    "<div style=\"font-family: Verdana; font-size: 18px; line-height: 1.6;\">\n",
    "\n",
    "The Key Features of a list in python are as follows:   \n",
    "    \n",
    "- **ORDERED COLLECTION :**  List is a Ordered collection (i.e) Lists maintain the order of the elements in which they are added.\n",
    "- **MUTABLE :** List is a Mutable datatype, meaning the element in the list can be modified after they are created.\n",
    "- **HETEROGENUOS ELEMENTS :** List can contains heterogenuos elements. A list can contain elements of different data type.\n",
    "- **Indexing & Slicing :**  The elements in the list are accessed by means of index. List also support slicing which is used to retrieve a group elements together.\n",
    "- **DYNAMIC SIZE :**   Lists can grow or shrink in size as elements are added or removed. \n",
    "\n",
    "    \n",
    "    \n",
    "    \n",
    "</div>"
   ]
  },
  {
   "cell_type": "markdown",
   "id": "419f0af3-f083-4a3a-a71a-f356548f98ce",
   "metadata": {},
   "source": [
    "<div style=\"font-family: Verdana; font-size: 20px; font-weight: bold; color: black;\">\n",
    "Question 3: Describe how to access, modify and delete elements in a list with examples?\n",
    "</div>"
   ]
  },
  {
   "cell_type": "markdown",
   "id": "2e179fb0-14d2-433b-b23b-470fc97035c3",
   "metadata": {},
   "source": [
    "<div style=\"font-family: Verdana; font-size: 18px; line-height: 1.6;\">\n",
    "\n",
    "**Accessing Elements**    \n",
    "    The elements in the List can be accessed by using their index. We can retreive a single elements by indexing or extract the range of elements using slicing.\n",
    "\n",
    "**EXAMPLES**    \n",
    "    \n",
    "</div>"
   ]
  },
  {
   "cell_type": "code",
   "execution_count": 13,
   "id": "c59d7025-962d-4cb7-8a61-08c44b634b0b",
   "metadata": {},
   "outputs": [
    {
     "name": "stdout",
     "output_type": "stream",
     "text": [
      "sornaraj\n",
      "{1, 2, 3, 4}\n",
      "True\n"
     ]
    }
   ],
   "source": [
    "# 1. Indexing a single Element from a list\n",
    "\n",
    "lst = [\"sornaraj\" , {1,2,3,4}, None,True] \n",
    "print(lst[0])\n",
    "print(lst [1])\n",
    "print(lst[-1])"
   ]
  },
  {
   "cell_type": "code",
   "execution_count": 17,
   "id": "d2f77913-c2d9-4ea4-80f9-1bc0738882fd",
   "metadata": {},
   "outputs": [
    {
     "data": {
      "text/plain": [
       "[5, 6, 7, 8, 9, 10]"
      ]
     },
     "execution_count": 17,
     "metadata": {},
     "output_type": "execute_result"
    }
   ],
   "source": [
    "# 2. Slicing a Range of Elements from a list\n",
    "\n",
    "lst = [1,2,3,4,5,6,7,8,9,10]\n",
    "lst[4:] "
   ]
  },
  {
   "cell_type": "markdown",
   "id": "0cfc2f32-2f60-42be-b74c-30cf706617a8",
   "metadata": {},
   "source": [
    "<div style=\"font-family: Verdana; font-size: 18px; line-height: 1.6;\">\n",
    "    \n",
    "\n",
    "**MODIFYING ELEMENTS**    \n",
    "List is a mutable object which allows modification after they are created. we can modify elements by directly assigning a new value to a specific index.\n",
    "    \n",
    "**EXAMPLES**\n",
    "    \n",
    "</div>"
   ]
  },
  {
   "cell_type": "code",
   "execution_count": 19,
   "id": "4190bdc7-b717-42d5-9105-2e6f46471682",
   "metadata": {},
   "outputs": [
    {
     "name": "stdout",
     "output_type": "stream",
     "text": [
      "Original List : ['Apple', 'orange', 'banana']\n",
      "Modified List : ['Apple', 'carrot', 'banana']\n"
     ]
    }
   ],
   "source": [
    "# Modify a Single Element in a list\n",
    "\n",
    "lst = [\"Apple\" , \"orange\" , \"banana\"]\n",
    "print(f\"Original List : {lst}\")\n",
    "lst[1] = \"carrot\"\n",
    "print(f\"Modified List : {lst}\")\n"
   ]
  },
  {
   "cell_type": "code",
   "execution_count": 20,
   "id": "de6ebb3c-bb48-455d-a63d-8e2e61b496b2",
   "metadata": {},
   "outputs": [
    {
     "name": "stdout",
     "output_type": "stream",
     "text": [
      "Original List : ['Apple', 'orange', 'banana']\n",
      "Modified List : ['Apple', 'carrot', 'grapes']\n"
     ]
    }
   ],
   "source": [
    "# Modify a range of elements\n",
    "\n",
    "lst = [\"Apple\" , \"orange\" , \"banana\"]\n",
    "print(f\"Original List : {lst}\")\n",
    "lst[1:] = [\"carrot\" , \"grapes\"]\n",
    "print(f\"Modified List : {lst}\")\n"
   ]
  },
  {
   "cell_type": "markdown",
   "id": "6a5f4bf7-7682-4cc9-9afc-19f57bb01a53",
   "metadata": {},
   "source": [
    "<div style=\"font-family: Verdana; font-size: 18px; line-height: 1.6;\">\n",
    "    \n",
    "**DELETE ELEMENT**\n",
    "    \n",
    "The elements in the list can be deleted by three ways. \n",
    "- `del`\n",
    "- `pop`\n",
    "- `remove`   \n",
    "</div>"
   ]
  },
  {
   "cell_type": "code",
   "execution_count": 22,
   "id": "d204241f-a0ce-404d-94b5-bcdfba43b182",
   "metadata": {},
   "outputs": [
    {
     "name": "stdout",
     "output_type": "stream",
     "text": [
      "Original List : [1, 2, 3, 4, 5]\n",
      "Modified List : [1, 3, 4, 5]\n"
     ]
    }
   ],
   "source": [
    "# Using 'del' statement to remove element in a list.\n",
    "\n",
    "lst = [1,2,3,4,5]\n",
    "print(f\"Original List : {lst}\")\n",
    "del lst[1]\n",
    "print(f\"Modified List : {lst}\")"
   ]
  },
  {
   "cell_type": "code",
   "execution_count": 23,
   "id": "83e16bba-d5e3-417a-8d5a-7a161ebc850f",
   "metadata": {},
   "outputs": [
    {
     "name": "stdout",
     "output_type": "stream",
     "text": [
      "Original List : [1, 2, 3, 4, 5]\n",
      "Modified List : [1, 3, 4, 5]\n"
     ]
    }
   ],
   "source": [
    "# Using 'pop' method to remove element in a list.\n",
    "\n",
    "lst = [1,2,3,4,5]\n",
    "print(f\"Original List : {lst}\")\n",
    "lst.pop(1)\n",
    "print(f\"Modified List : {lst}\")"
   ]
  },
  {
   "cell_type": "code",
   "execution_count": 24,
   "id": "4031cf9d-3af2-4af3-b10a-958ca7db19ac",
   "metadata": {},
   "outputs": [
    {
     "name": "stdout",
     "output_type": "stream",
     "text": [
      "Original List : [1, 2, 3, 4, 5]\n",
      "Modified List : [1, 3, 4, 5]\n"
     ]
    }
   ],
   "source": [
    "# Using 'remove' method to remove element in a list.\n",
    "\n",
    "lst = [1,2,3,4,5]\n",
    "print(f\"Original List : {lst}\")\n",
    "lst.remove(2)\n",
    "print(f\"Modified List : {lst}\")"
   ]
  },
  {
   "cell_type": "markdown",
   "id": "0115fcf2-106d-4492-9649-630aa4b40e72",
   "metadata": {},
   "source": [
    "<div style=\"font-family: Verdana; font-size: 20px; font-weight: bold; color: black;\">\n",
    "Question 4: Compare and contrast List and Tuple with examples?\n",
    "</div>"
   ]
  },
  {
   "cell_type": "markdown",
   "id": "09b5e4b2-a702-4413-ae5a-bb05cfeec015",
   "metadata": {},
   "source": [
    "<div style=\"font-family: Verdana; font-size: 18px; line-height: 1.6;\">\n",
    "    \n",
    "\n",
    "\n",
    "| Feature               | List                                | Tuple                            |\n",
    "|-----------------------|-------------------------------------|----------------------------------|\n",
    "| **Mutability**        | Mutable                             | Immutable                        |\n",
    "| **Size**              | Dynamic                             | Fixed                            |\n",
    "| **Performance**       | Slower due to mutability overhead   | Faster due to immutability       |\n",
    "| **Use Case**          | List is used in places where frequent modification or updations of elements happens | Tuple is used in places where the element should not be changed|\n",
    "| **Syntax**            | Defined using square brackets `[1,2,3]`  | Defined using parentheses `(1,2,3)`   |\n",
    "| **Iteration**         | Supports iteration                  | Supports iteration               |\n",
    "| **Memory Usage**      | Generally uses more memory due to dynamic sizing | Generally uses less memory due to fixed size |\n",
    "| **Hashability**       | Not hashable (cannot be used as keys in dictionaries) | Hashable (can be used as keys in dictionaries) |\n",
    "| **Unpacking**         | Supports unpacking but less commonly used | Commonly used for unpacking multiple values |\n",
    "\n"
   ]
  },
  {
   "cell_type": "markdown",
   "id": "73843ecd-1077-4b9b-a467-3341bda2591c",
   "metadata": {},
   "source": [
    "<div style=\"font-family: Verdana; font-size: 18px; line-height: 1.6;\">\n",
    "    \n",
    "</div><div style=\"font-family: Verdana; font-size: 18px; line-height: 1.6;\">\n",
    "    \n",
    "</div>"
   ]
  },
  {
   "cell_type": "markdown",
   "id": "ffc59db5-0134-4127-adb7-479e27a1b14f",
   "metadata": {},
   "source": [
    "<div style=\"font-family: Verdana; font-size: 18px; line-height: 1.6;\">\n",
    "    \n",
    "</div><div style=\"font-family: Verdana; font-size: 18px; line-height: 1.6;\">\n",
    "    \n",
    "</div>"
   ]
  },
  {
   "cell_type": "markdown",
   "id": "5005878d-6ff9-4c7f-a954-887f95343339",
   "metadata": {},
   "source": [
    "<div style=\"font-family: Verdana; font-size: 20px; font-weight: bold; color: black;\">\n",
    "Question 5: Describe the key features of set and provide examples of their use ?\n",
    "</div>"
   ]
  },
  {
   "cell_type": "markdown",
   "id": "88e88234-3e1d-4fd7-89c8-b22477b67472",
   "metadata": {},
   "source": [
    "<div style=\"font-family: Verdana; font-size: 18px; line-height: 1.6;\">\n",
    "\n",
    "\n",
    "Sets are a built-in data structure in Python that represent unordered collections of unique elements. Here are some key features of sets:\n",
    "\n",
    "**Key Features**\n",
    "\n",
    "- **Unordered**: Sets do not maintain any order of elements. The elements are not indexed, and their order may change.\n",
    "\n",
    "- **Unique Elements**: Sets automatically enforce uniqueness; duplicate elements are removed automatically.\n",
    "\n",
    "- **Mutable**: Sets are mutable, meaning you can add or remove elements after the set is created.\n",
    "\n",
    "- **No Indexing**: Since sets are unordered, they do not support indexing, slicing, or other sequence-like behavior.\n",
    "\n",
    "- **Set Operations**: Sets support mathematical operations like union, intersection, difference, and symmetric difference.\n",
    "\n",
    "- **Iterable**: Sets can be iterated over in a loop.\n",
    "\n",
    "**EXAMPLE**\n",
    "</div>"
   ]
  },
  {
   "cell_type": "code",
   "execution_count": 36,
   "id": "a33cbcf6-db96-447a-849a-661c5e5f69d1",
   "metadata": {},
   "outputs": [
    {
     "name": "stdout",
     "output_type": "stream",
     "text": [
      "UNION OPERATION:\n",
      "\n",
      "Set_1 : {'grapes', 'apple', 'orange'} \n",
      "Set_2 : {'cabbage', 'onion', 'tomato'}\n",
      "UNION OF TWO SETS : {'apple', 'cabbage', 'onion', 'grapes', 'orange', 'tomato'}\n",
      "____________________________________________________________________________________________________\n",
      "\n",
      "Intersection OPERATION:\n",
      "\n",
      "Set_1 : {'grapes', 'apple', 'orange'} \n",
      "Set_2 : {'grapes', 'orange', 'banana', 'blueberry'}\n",
      "Intersection OF TWO SETS : {'grapes', 'orange'}\n"
     ]
    }
   ],
   "source": [
    "# Set Usecases\n",
    "\n",
    "# 1. UNION\n",
    "fruits = {\"apple\" , \"orange\" , \"grapes\"}\n",
    "vegetables = {\"tomato\" , \"onion\" ,\"cabbage\"}\n",
    "\n",
    "#Combine two set using Union Operation\n",
    "print(\"UNION OPERATION:\\n\")\n",
    "print(f\"Set_1 : {fruits} \\nSet_2 : {vegetables}\")\n",
    "print(f\"UNION OF TWO SETS : {fruits | vegetables}\")\n",
    "print(\"_\"*100)\n",
    "\n",
    "# 1. INTERSECTION\n",
    "basket_1 = {\"apple\" , \"orange\" , \"grapes\"}\n",
    "basket_2 = {\"banana\" , \"blueberry\" , \"grapes\" , \"orange\"}\n",
    "\n",
    "# Intersection of two sets\n",
    "print(\"\\nIntersection OPERATION:\\n\")\n",
    "print(f\"Set_1 : {basket_1} \\nSet_2 : {basket_2}\")\n",
    "print(f\"Intersection OF TWO SETS : {basket_1 & basket_2}\")"
   ]
  },
  {
   "cell_type": "markdown",
   "id": "53113856-8e6d-471e-a315-86a6376a36f9",
   "metadata": {},
   "source": [
    "<div style=\"font-family: Verdana; font-size: 18px; line-height: 1.6;\">\n",
    "    \n",
    "</div><div style=\"font-family: Verdana; font-size: 18px; line-height: 1.6;\">\n",
    "    \n",
    "</div>"
   ]
  },
  {
   "cell_type": "markdown",
   "id": "272b7aa7-aa01-4c59-b298-9bde779e837a",
   "metadata": {},
   "source": [
    "<div style=\"font-family: Verdana; font-size: 18px; line-height: 1.6;\">\n",
    "    \n",
    "</div><div style=\"font-family: Verdana; font-size: 18px; line-height: 1.6;\">\n",
    "    \n",
    "</div>"
   ]
  },
  {
   "cell_type": "markdown",
   "id": "6b9d44b5-fab2-47ef-9452-ca2c185b0791",
   "metadata": {},
   "source": [
    "<div style=\"font-family: Verdana; font-size: 20px; font-weight: bold; color: black;\">\n",
    "Question 6: Discuss the usecases of Tuple and set in python programming?\n",
    "       \n",
    "</div>"
   ]
  },
  {
   "cell_type": "markdown",
   "id": "0d16eae5-4cce-4b25-b6fe-0c3e3cb02833",
   "metadata": {},
   "source": [
    "<div style=\"font-family: Verdana; font-size: 18px; line-height: 1.6;\">\n",
    "    \n",
    "**USECASES OF TUPLE**\n",
    "\n",
    "\n",
    "**1.Using Tuples as Dictionary Keys** \n",
    "Tuples are hashable and can be used as keys in dictionaries, which require immutable keys.\n",
    "    \n",
    "```python \n",
    "locations = {\n",
    "    (\"New York\", \"NY\"): 8175133,\n",
    "    (\"Los Angeles\", \"CA\"): 3792621,\n",
    "}\n"
   ]
  },
  {
   "cell_type": "markdown",
   "id": "fbbe781d-ff93-4d66-85c0-f4b4803f3ece",
   "metadata": {},
   "source": [
    "<div style=\"font-family: Verdana; font-size: 18px; line-height: 1.6;\">\n",
    "    \n",
    "\n",
    "**2.Immutable Data Storage:**\n",
    "Tuples are ideal for storing data that should not be changed throughout the program.\n",
    "\n",
    "    \n",
    "**3. Unpacking sequence:**\n",
    "Tuples can be used to unpack sequences into separate variables for cleaner code.\n",
    "    \n",
    "```python \n",
    ">>name , age , degree =  (\"Alice\", 30, \"B.E\")\n",
    "\n"
   ]
  },
  {
   "cell_type": "markdown",
   "id": "4f2f9f5f-e5d8-4edb-b687-57f76bb4ccf0",
   "metadata": {},
   "source": [
    "<div style=\"font-family: Verdana; font-size: 18px; line-height: 1.6;\">\n",
    "\n",
    "**USECASES OF SET**\n",
    "    \n",
    "**1. Removing Duplicates from a List**\n",
    "Sets automatically remove duplicate elements, making them useful for deduplicating lists. \n",
    "    \n",
    "</div>"
   ]
  },
  {
   "cell_type": "code",
   "execution_count": 37,
   "id": "180c0af4-7b34-4b8a-adc3-f77982b11a8e",
   "metadata": {},
   "outputs": [
    {
     "name": "stdout",
     "output_type": "stream",
     "text": [
      "[1, 2, 3, 4, 5]\n"
     ]
    }
   ],
   "source": [
    "# Removing Duplicates Using set\n",
    "\n",
    "data = [1, 2, 2, 3, 4, 4, 5]\n",
    "unique_data = list(set(data))\n",
    "print(unique_data) \n"
   ]
  },
  {
   "cell_type": "markdown",
   "id": "27bff712-f9e5-4169-a6aa-9e58556eb1ca",
   "metadata": {},
   "source": [
    "<div style=\"font-family: Verdana; font-size: 18px; line-height: 1.6;\">\n",
    "    \n",
    "**2. Efficient Membership Testing :**    \n",
    "Sets provide an efficient way to check for the presence of an element due to their underlying hash table structure.\n",
    "</div>"
   ]
  },
  {
   "cell_type": "code",
   "execution_count": 38,
   "id": "4a8e63b4-2b0d-4899-812e-a5f8a4317d17",
   "metadata": {},
   "outputs": [
    {
     "data": {
      "text/plain": [
       "True"
      ]
     },
     "execution_count": 38,
     "metadata": {},
     "output_type": "execute_result"
    }
   ],
   "source": [
    "# To chech two Sequence object contains same elements but in different Order.\n",
    "seq_1 = [\"apple\" , \"orange\" , \"grapes\"]\n",
    "seq_2 = [\"grapes\" , \"orange\"  ,\"apple\" ]\n",
    "\n",
    "set(seq_1) == set(seq_2)"
   ]
  },
  {
   "cell_type": "markdown",
   "id": "658f039a-0a97-4330-bec7-b0c37528f193",
   "metadata": {},
   "source": [
    "<div style=\"font-family: Verdana; font-size: 18px; line-height: 1.6;\">\n",
    "\n",
    "**3. Set Operations :**\n",
    "    Sets support mathematical set operations like union, intersection, difference, and symmetric difference.\n",
    "    \n",
    "</div>"
   ]
  },
  {
   "cell_type": "code",
   "execution_count": 39,
   "id": "6ead723a-4d3b-4203-85e4-8f1aa657981e",
   "metadata": {},
   "outputs": [
    {
     "name": "stdout",
     "output_type": "stream",
     "text": [
      "UNION OPERATION:\n",
      "\n",
      "Set_1 : {'grapes', 'apple', 'orange'} \n",
      "Set_2 : {'cabbage', 'onion', 'tomato'}\n",
      "UNION OF TWO SETS : {'apple', 'cabbage', 'onion', 'grapes', 'orange', 'tomato'}\n",
      "____________________________________________________________________________________________________\n",
      "\n",
      "Intersection OPERATION:\n",
      "\n",
      "Set_1 : {'grapes', 'apple', 'orange'} \n",
      "Set_2 : {'grapes', 'orange', 'banana', 'blueberry'}\n",
      "Intersection OF TWO SETS : {'grapes', 'orange'}\n"
     ]
    }
   ],
   "source": [
    "# Set Operations\n",
    "# 1. UNION\n",
    "fruits = {\"apple\" , \"orange\" , \"grapes\"}\n",
    "vegetables = {\"tomato\" , \"onion\" ,\"cabbage\"}\n",
    "\n",
    "#Combine two set using Union Operation\n",
    "print(\"UNION OPERATION:\\n\")\n",
    "print(f\"Set_1 : {fruits} \\nSet_2 : {vegetables}\")\n",
    "print(f\"UNION OF TWO SETS : {fruits | vegetables}\")\n",
    "print(\"_\"*100)\n",
    "\n",
    "# 1. INTERSECTION\n",
    "basket_1 = {\"apple\" , \"orange\" , \"grapes\"}\n",
    "basket_2 = {\"banana\" , \"blueberry\" , \"grapes\" , \"orange\"}\n",
    "\n",
    "# Intersection of two sets\n",
    "print(\"\\nIntersection OPERATION:\\n\")\n",
    "print(f\"Set_1 : {basket_1} \\nSet_2 : {basket_2}\")\n",
    "print(f\"Intersection OF TWO SETS : {basket_1 & basket_2}\")"
   ]
  },
  {
   "cell_type": "markdown",
   "id": "5d6a2b76-4039-4517-8477-99ae6f1957ca",
   "metadata": {},
   "source": [
    "<div style=\"font-family: Verdana; font-size: 18px; line-height: 1.6;\">\n",
    "    \n",
    "</div><div style=\"font-family: Verdana; font-size: 18px; line-height: 1.6;\">\n",
    "    \n",
    "</div>"
   ]
  },
  {
   "cell_type": "markdown",
   "id": "99f90197-1334-4339-98c1-f75f951d0794",
   "metadata": {},
   "source": [
    "<div style=\"font-family: Verdana; font-size: 18px; line-height: 1.6;\">\n",
    "    \n",
    "</div><div style=\"font-family: Verdana; font-size: 18px; line-height: 1.6;\">\n",
    "    \n",
    "</div>"
   ]
  },
  {
   "cell_type": "markdown",
   "id": "6e0d12d2-18de-45ef-943d-3c6d4c94747e",
   "metadata": {},
   "source": [
    "<div style=\"font-family: Verdana; font-size: 18px; line-height: 1.6;\">\n",
    "    \n",
    "</div><div style=\"font-family: Verdana; font-size: 18px; line-height: 1.6;\">\n",
    "    \n",
    "</div>"
   ]
  },
  {
   "cell_type": "markdown",
   "id": "3496fc6d-9ac1-49a6-a11a-952a638db3fc",
   "metadata": {},
   "source": [
    "<div style=\"font-family: Verdana; font-size: 20px; font-weight: bold; color: black;\">\n",
    "Question 7: Describe how to add , modify and delete items in a dictionary with examples?\n",
    "</div>"
   ]
  },
  {
   "cell_type": "markdown",
   "id": "08fc148f-139d-4449-92e7-7ba9c87ba57b",
   "metadata": {},
   "source": [
    "<div style=\"font-family: Verdana; font-size: 18px; line-height: 1.6;\">\n",
    "    \n",
    "**ADDING ITEMS**\n",
    "    \n",
    "we can add a new key-value pair to a dictionary by simply assigning a value to a new key.\n",
    "\n",
    "```python\n",
    "# creating a Empty Dictionary\n",
    "person = {}\n",
    "\n",
    "# Add new items\n",
    "person[\"name\"] = \"Alice\"\n",
    "person[\"age\"] = 30\n",
    "person[\"city\"] = \"New York\"\n",
    "\n",
    "print(person)  # Output: {'name': 'Alice', 'age': 30, 'city': 'New York'}\n"
   ]
  },
  {
   "cell_type": "markdown",
   "id": "4e842356-0fb5-4a8b-b9bf-9a2a64d225b1",
   "metadata": {},
   "source": [
    "<div style=\"font-family: Verdana; font-size: 18px; line-height: 1.6;\">\n",
    "    \n",
    "**MODIFYING ITEMS**\n",
    "Dictionary are Mutable datatypes. hence we can add extra key-value pairs , change the value of a existing key.we can modify the value of an existing key by assigning a new value to it.\n",
    "    \n",
    "\n",
    "```python\n",
    "\n",
    "# creating a Empty Dictionary\n",
    "person = {}\n",
    "\n",
    "# Add new items\n",
    "person[\"name\"] = \"Alice\"\n",
    "person[\"age\"] = 30\n",
    "person[\"city\"] = \"New York\"\n",
    "\n",
    "# Modify the Value of Existing Key\n",
    "person[\"city\"] = \"Danny\"\n",
    "\n",
    "print(person)  # Output: {'name': 'Danny', 'age': 30, 'city': 'New York'}\n"
   ]
  },
  {
   "cell_type": "markdown",
   "id": "32bfce37-bae5-4858-a5a9-dce21bd5c556",
   "metadata": {},
   "source": [
    "<div style=\"font-family: Verdana; font-size: 18px; line-height: 1.6;\">\n",
    "    \n",
    "**DELETING ITEMS :**\n",
    "We can remove a key-value pair using the `del` statement and `pop` method.\n",
    "\n",
    "**EXAMPLES :**\n",
    "    \n",
    "```python\n",
    "# 1. Del statement\n",
    "\n",
    "    # Creates a new Dictionary\n",
    "    person = {\"name\": \"Alice\", \"age\": 30, \"city\": \"New York\"}\n",
    "\n",
    "    # Remove a key-value pair\n",
    "    del person[\"age\"]\n",
    "\n",
    "    print(person)  # Output: {'name': 'Alice', 'city': 'New York'}\n"
   ]
  },
  {
   "cell_type": "markdown",
   "id": "43f78eb3-7a25-4756-b221-ff11e797b97e",
   "metadata": {},
   "source": [
    "<div style=\"font-family: Verdana; font-size: 18px; line-height: 1.6;\">\n",
    "    \n",
    "\n",
    "    \n",
    "```python\n",
    "# 2. pop method\n",
    "\n",
    "    # Creates a new Dictionary\n",
    "    person = {\"name\": \"Alice\", \"age\": 30, \"city\": \"New York\"}\n",
    "\n",
    "    # Remove a key-value pair\n",
    "    del person[\"age\"]\n",
    "    \n",
    "    print(person)  # Output: {'name': 'Alice', 'city': 'New York'}\n",
    "\n"
   ]
  },
  {
   "cell_type": "markdown",
   "id": "11ee83a2-b507-4d7f-9bb4-4abb719d5a02",
   "metadata": {},
   "source": [
    "<div style=\"font-family: Verdana; font-size: 18px; line-height: 1.6;\">\n",
    "    \n",
    "</div>"
   ]
  },
  {
   "cell_type": "markdown",
   "id": "5ab52cd9-d64d-4410-93b0-12b41bfb3679",
   "metadata": {},
   "source": [
    "<div style=\"font-family: Verdana; font-size: 18px; line-height: 1.6;\">\n",
    "    \n",
    "</div>"
   ]
  },
  {
   "cell_type": "markdown",
   "id": "4b33f0a4-8424-4d77-9772-f543a35afab3",
   "metadata": {},
   "source": [
    "<div style=\"font-family: Verdana; font-size: 20px; font-weight: bold; color: black;\">\n",
    "Question 8: Discuss the Importance of dictionary keys being Immutable and provide examples?\n",
    "</div>"
   ]
  },
  {
   "cell_type": "markdown",
   "id": "9fba7925-82b8-4c28-9eb7-06083260ed9c",
   "metadata": {},
   "source": [
    "<div style=\"font-family: Verdana; font-size: 18px; line-height: 1.6;\">\n",
    "\n",
    "**Reasons for Immutable Dictionary Keys**\n",
    "\n",
    "**1 . Hashability**\n",
    "Dictionary keys need to be hashable. Immutable objects, such as strings, numbers, and tuples, have a consistent hash value throughout their lifetime. Hashable objects ensure that each key maps to a specific location in the dictionary's underlying data structure.\n",
    "\n",
    "**2 .Consistency**\n",
    "Immutability ensures that the value associated with a key remains consistent. If a key were mutable and its value changed, it could disrupt the mapping, leading to data inconsistency and making the dictionary unreliable.\n",
    "\n",
    "**3 . Performance**\n",
    "Immutable keys allow for efficient key lookups. Since the hash value of an immutable key remains constant, the dictionary can quickly compute the location of the value associated with the key, resulting in faster retrieval times.\n",
    "\n",
    "```python\n",
    "# Immutable keys: strings, numbers, and tuples\n",
    "person = {\n",
    "    \"name\": \"Alice\",  # string key\n",
    "    42: \"age\",        # integer key\n",
    "    (1, 2): \"coordinates\"  # tuple key\n",
    "}\n",
    "\n",
    "print(person)\n",
    "# Output: {'name': 'Alice', 42: 'age', (1, 2): 'coordinates'}\n",
    "\n"
   ]
  },
  {
   "cell_type": "markdown",
   "id": "a5b475ab-5b2f-40cc-8396-dbeb9f5ebbfa",
   "metadata": {},
   "source": [
    "<div style=\"font-family: Verdana; font-size: 18px; line-height: 1.6;\">\n",
    "    \n",
    "</div>"
   ]
  },
  {
   "cell_type": "markdown",
   "id": "f2b1b72f-47a5-4f92-9deb-50203e2afce9",
   "metadata": {},
   "source": [
    "<div style=\"font-family: Verdana; font-size: 18px; line-height: 1.6;\">\n",
    "    \n",
    "</div>"
   ]
  },
  {
   "cell_type": "markdown",
   "id": "0b6e7213-b805-4eeb-b6b7-e5e3eebf974a",
   "metadata": {},
   "source": []
  },
  {
   "cell_type": "markdown",
   "id": "a472bae3-5896-4ca6-a319-09745b3eb377",
   "metadata": {},
   "source": []
  },
  {
   "cell_type": "markdown",
   "id": "f2a3a8cc-d254-462a-8194-2bf0e124a84d",
   "metadata": {},
   "source": []
  },
  {
   "cell_type": "markdown",
   "id": "bd8217c4-5454-4747-899e-993b7e107274",
   "metadata": {},
   "source": []
  },
  {
   "cell_type": "markdown",
   "id": "2f96fb20-3ca7-4ae8-b1ce-cdae39c8983b",
   "metadata": {},
   "source": []
  },
  {
   "cell_type": "markdown",
   "id": "1fa9e1d7-5adf-4cb3-8ec8-e9b8b01ad8fc",
   "metadata": {},
   "source": []
  },
  {
   "cell_type": "markdown",
   "id": "c70616f6-4559-4465-906f-f513f06518fc",
   "metadata": {},
   "source": []
  },
  {
   "cell_type": "markdown",
   "id": "2330fe77-894c-4476-a8ac-c10dc73de7e7",
   "metadata": {},
   "source": []
  },
  {
   "cell_type": "markdown",
   "id": "d480e481-cd7b-4e71-a02d-2c73abc3c052",
   "metadata": {},
   "source": []
  }
 ],
 "metadata": {
  "kernelspec": {
   "display_name": "Python 3 (ipykernel)",
   "language": "python",
   "name": "python3"
  },
  "language_info": {
   "codemirror_mode": {
    "name": "ipython",
    "version": 3
   },
   "file_extension": ".py",
   "mimetype": "text/x-python",
   "name": "python",
   "nbconvert_exporter": "python",
   "pygments_lexer": "ipython3",
   "version": "3.10.8"
  }
 },
 "nbformat": 4,
 "nbformat_minor": 5
}
