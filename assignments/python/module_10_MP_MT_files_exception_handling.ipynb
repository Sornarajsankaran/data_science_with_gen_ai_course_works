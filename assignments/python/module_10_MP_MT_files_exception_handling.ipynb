{
 "cells": [
  {
   "cell_type": "markdown",
   "id": "4573fe7d-6621-47d3-a22e-05ca77a5be66",
   "metadata": {},
   "source": [
    "___\n",
    "#  PYTHON - MODULE 10 FILES AND EXCEPTION HANDLING  ASSIGNMENT\n",
    "---\n"
   ]
  },
  {
   "cell_type": "markdown",
   "id": "b80fc2cf",
   "metadata": {},
   "source": [
    "<div style=\"font-family: Verdana; font-size: 20px; font-weight: bold; color: black;line-height:1.6\">\n",
    "Question 1: Discuss the scenarios where multithreading is preferable to multiprocessing and scenarios where \n",
    "multiprocessing is a better choice?\n",
    "    \n",
    "</div>"
   ]
  },
  {
   "cell_type": "markdown",
   "id": "4befe220",
   "metadata": {},
   "source": [
    "<div style=\"font-family: Verdana; font-size: 18px; line-height: 1.6;\">\n",
    "    \n",
    "__SCENARIOS WHERE MULTITHREADING IS PREFERED:__\n",
    "    \n",
    "Multithreading is generally more efficient for I/O-bound tasks, where the CPU spends time waiting for external resources. Since threads share the same memory space within a single process, they can communicate more easily and switch between tasks with less overhead.    \n",
    "\n",
    "- __I/O-Bound Tasks:__ Examples include network requests, file I/O, and database interactions. Since these tasks spend a lot of time waiting for data to arrive, threads can switch and work on other tasks while waiting, increasing program responsiveness without needing extra processes.\n",
    "\n",
    "- __GUI Applications:__ Multithreading can keep the interface responsive. The main thread handles the interface while worker threads manage background tasks like fetching data or processing user actions.\n",
    "\n",
    "- __Lower Memory Overhead:__ Threads share memory within a single process, reducing the memory cost compared to multiple processes. This is beneficial in environments with limited memory resources or where the tasks are lightweight.\n",
    "\n",
    "- __Real-Time Data Processing:__ For applications like streaming, where data needs to be processed as it arrives, threads allow the program to manage data flow without the overhead of process creation."
   ]
  },
  {
   "cell_type": "markdown",
   "id": "3cc35cf2",
   "metadata": {},
   "source": [
    "<div style=\"font-family: Verdana; font-size: 18px; line-height: 1.6;\">\n",
    "    \n",
    "</div><div style=\"font-family: Verdana; font-size: 18px; line-height: 1.6;\">\n",
    "    \n",
    "</div>"
   ]
  },
  {
   "cell_type": "markdown",
   "id": "2998daac",
   "metadata": {},
   "source": [
    "<div style=\"font-family: Verdana; font-size: 18px; line-height: 1.6;\">\n",
    "    \n",
    "__SCENARIOS WHERE MULTIPROCESSING IS PREFERED:__\n",
    "    \n",
    "Multiprocessing is a better choice for CPU-bound tasks that require significant computational power. Each process has its own memory space, allowing them to avoid the limitations of the Global Interpreter Lock (GIL) in Python, which restricts the execution of multiple threads in a single process.\n",
    "\n",
    "- __CPU-Bound Tasks:__ Tasks like numerical simulations, machine learning model training, and data processing benefit from multiprocessing, as they require intense computation that can be distributed across multiple CPU cores.\n",
    "\n",
    "- __Isolation for Reliability:__ If tasks need to run independently or if one task's failure shouldn’t affect others, multiprocessing provides better fault isolation. Crashes in one process don’t affect others.\n",
    "\n",
    "- __Parallel Data Processing Pipelines:__ When processing large datasets (e.g., image or video processing, ETL jobs), multiprocessing can handle different chunks in parallel. Each process can work independently on a different part of the data, speeding up overall performance.\n",
    "\n",
    "- __Utilizing Distributed Systems:__ In environments like clusters or cloud platforms, where tasks are distributed across different physical nodes, multiprocessing aligns with the infrastructure by spawning multiple processes that can run across nodes."
   ]
  },
  {
   "cell_type": "markdown",
   "id": "b4d99976",
   "metadata": {},
   "source": [
    "<div style=\"font-family: Verdana; font-size: 18px; line-height: 1.6;\">\n",
    "    \n",
    "</div><div style=\"font-family: Verdana; font-size: 18px; line-height: 1.6;\">\n",
    "    \n",
    "</div>"
   ]
  },
  {
   "cell_type": "markdown",
   "id": "0d0e6253",
   "metadata": {},
   "source": [
    "<div style=\"font-family: Verdana; font-size: 20px; font-weight: bold; color: black;line-height:1.6\">\n",
    "Question 2: Describe what a process pool is and how it helps in managing multiple processes efficiently.\n",
    "</div>\n"
   ]
  },
  {
   "cell_type": "markdown",
   "id": "f0b45ea5",
   "metadata": {},
   "source": [
    "<div style=\"font-family: Verdana; font-size: 18px; line-height: 1.6;\">\n",
    "    \n",
    "A process pool is a group of worker processes that efficiently handle multiple tasks by reusing a fixed number of processes. This minimizes the overhead of repeatedly creating and destroying processes.\n",
    "    \n",
    "    \n",
    "__WORKING OF PROCESS POOL:__\n",
    "\n",
    "- __Fixed Number of Worker Processes:__ A process pool is initialized with a specified number of processes (workers). These processes are created once and then kept \"alive\" for the duration of the pool’s existence, allowing tasks to be assigned to any available worker.\n",
    "\n",
    "- __Task Submission:__ When a task is submitted to the pool, it is assigned to an available worker. If all workers are busy, the task will wait in a queue until a worker is free.\n",
    "\n",
    "- __Task Execution and Reuse:__ Each worker process in the pool executes tasks independently, with its own memory space. When a worker completes a task, it becomes available for the next queued task. This reuse minimizes the cost of creating new processes for each task, thus improving efficiency, especially in high-throughput applications.\n",
    "\n",
    "- __Automatic Load Balancing:__ The pool dynamically balances the task load across workers. Tasks are distributed based on availability, maximizing the use of each worker and minimizing idle time. This is especially beneficial when tasks have varying execution times.\n",
    "    \n",
    "__BENEFITS OF PROCESS POOL:__\n",
    "    \n",
    "- __Reduced Overhead:__ By reusing a fixed number of processes, a process pool minimizes the time and memory overhead associated with creating and destroying processes for each task.\n",
    "\n",
    "- __Improved Resource Management:__ Process pools limit the number of concurrent processes, which helps in managing CPU and memory resources, preventing system overload. This controlled environment is essential in systems where resource constraints or quotas are in place.\n",
    "\n",
    "- __Parallelism:__ A process pool provides a straightforward way to achieve parallelism in CPU-bound tasks, as each process runs independently. It can fully utilize multi-core CPUs, especially in languages like Python, which have a Global Interpreter Lock (GIL) that limits multithreading.\n",
    "\n",
    "- __Ease of Use:__ Process pools abstract away much of the complexity of managing individual processes, providing simple methods to submit tasks and retrieve results, making concurrent programming more accessible.\n",
    "    \n",
    "    \n",
    "```python \n",
    "\n",
    "from concurrent.futures import ProcessPoolExecutor\n",
    "# Function that will be executed by multiple process in parallel\n",
    "def process_task(data):\n",
    "    return data ** 2\n",
    "\n",
    "# Initialize a process pool with 4 workers\n",
    "with ProcessPoolExecutor(max_workers=4) as pool:\n",
    "    # Submit multiple tasks to the pool\n",
    "    results = pool.map(process_task, range(10))\n",
    "\n",
    "print(list(results))\n",
    "    \n",
    "    "
   ]
  },
  {
   "cell_type": "markdown",
   "id": "26bcf258",
   "metadata": {},
   "source": [
    "<div style=\"font-family: Verdana; font-size: 18px; line-height: 1.6;\">\n",
    "    \n",
    "</div><div style=\"font-family: Verdana; font-size: 18px; line-height: 1.6;\">\n",
    "    \n",
    "</div>"
   ]
  },
  {
   "cell_type": "markdown",
   "id": "c3b5e51c",
   "metadata": {},
   "source": [
    "<div style=\"font-family: Verdana; font-size: 20px; font-weight: bold; color: black;line-height:1.6\">\n",
    "Question 3:  Explain what multiprocessing is and why it is used in Python programs?\n",
    "    \n",
    "</div>\n",
    "\n"
   ]
  },
  {
   "cell_type": "markdown",
   "id": "96590c7a",
   "metadata": {},
   "source": [
    "<div style=\"font-family: Verdana; font-size: 18px; line-height: 1.6;\">\n",
    "\n",
    "Multiprocessing in Python allows the execution of multiple processes simultaneously, leveraging multiple CPU cores to improve performance. This is particularly useful for CPU-bound tasks where the Global Interpreter Lock (GIL) in Python can be a bottleneck.\n",
    "    \n",
    "__USE OF MULTIPROCESSING IN PYTHON PROGRAMS:__\n",
    "    \n",
    "Python’s Global Interpreter Lock (GIL) restricts the execution of multiple threads within the same process, meaning that only one thread can execute Python bytecode at a time. This makes true parallelism challenging in CPU-bound tasks (those that require significant computation rather than I/O operations).\n",
    "\n",
    "Multiprocessing bypasses the GIL by using separate processes, each with its own Python interpreter and memory space. This allows Python programs to:\n",
    "\n",
    "- __Achieve Parallelism:__ Each process runs independently on its own CPU core, enabling true parallel execution for CPU-intensive tasks.\n",
    "- __Enhance Performance:__ CPU-bound programs (e.g., numerical computations, data processing) can run faster by dividing tasks across multiple cores.\n",
    "- __Isolate Processes:__ Each process has separate memory, making it safer and reducing the risk of memory corruption due to concurrent access."
   ]
  },
  {
   "cell_type": "markdown",
   "id": "24c2c40b",
   "metadata": {},
   "source": [
    "<div style=\"font-family: Verdana; font-size: 20px; font-weight: bold; color: black; line-height:1.6\">\n",
    "Question 4:   Write a Python program using multithreading where one thread adds numbers to a list, and another \n",
    "thread removes numbers from the list. Implement a mechanism to avoid race conditions using \n",
    "threading.Lock.\n",
    "    \n",
    "</div>"
   ]
  },
  {
   "cell_type": "code",
   "execution_count": 2,
   "id": "fa9151dc",
   "metadata": {},
   "outputs": [
    {
     "name": "stdout",
     "output_type": "stream",
     "text": [
      "Added 34 to list. Current list: [34]\n",
      "Added 77 to list. Current list: [34, 77]\n",
      "Added 84 to list. Current list: [34, 77, 84]\n",
      "Added 86 to list. Current list: [34, 77, 84, 86]\n",
      "Added 12 to list. Current list: [34, 77, 84, 86, 12]\n",
      "Added 28 to list. Current list: [34, 77, 84, 86, 12, 28]\n",
      "Added 81 to list. Current list: [34, 77, 84, 86, 12, 28, 81]\n",
      "Added 1 to list. Current list: [34, 77, 84, 86, 12, 28, 81, 1]\n",
      "Added 2 to list. Current list: [34, 77, 84, 86, 12, 28, 81, 1, 2]\n",
      "Added 24 to list. Current list: [34, 77, 84, 86, 12, 28, 81, 1, 2, 24]\n",
      "Removed 34 from list. Current list: [77, 84, 86, 12, 28, 81, 1, 2, 24]\n",
      "Removed 77 from list. Current list: [84, 86, 12, 28, 81, 1, 2, 24]\n",
      "Removed 84 from list. Current list: [86, 12, 28, 81, 1, 2, 24]\n",
      "Removed 86 from list. Current list: [12, 28, 81, 1, 2, 24]\n",
      "Removed 12 from list. Current list: [28, 81, 1, 2, 24]\n",
      "Removed 28 from list. Current list: [81, 1, 2, 24]\n",
      "Removed 81 from list. Current list: [1, 2, 24]\n",
      "Removed 1 from list. Current list: [2, 24]\n",
      "Removed 2 from list. Current list: [24]\n",
      "Removed 24 from list. Current list: []\n",
      "Final list: []\n"
     ]
    }
   ],
   "source": [
    "import threading\n",
    "import time\n",
    "import random\n",
    "\n",
    "# Shared list and lock\n",
    "shared_list = []\n",
    "lock = threading.Lock()\n",
    "\n",
    "# Function for adding numbers to the list\n",
    "def add_to_list():\n",
    "    for _ in range(10):\n",
    "        with lock:  \n",
    "            num = random.randint(1, 100)\n",
    "            shared_list.append(num)\n",
    "            print(f\"Added {num} to list. Current list: {shared_list}\")\n",
    "\n",
    "# Function for removing numbers from the list\n",
    "def remove_from_list():\n",
    "    for _ in range(10):\n",
    "        with lock: \n",
    "            if shared_list:\n",
    "                removed_num = shared_list.pop(0)\n",
    "                print(f\"Removed {removed_num} from list. Current list: {shared_list}\")\n",
    "            else:\n",
    "                print(\"List is empty, nothing to remove.\")\n",
    "\n",
    "# Create threads for adding and removing\n",
    "add_thread = threading.Thread(target=add_to_list)\n",
    "remove_thread = threading.Thread(target=remove_from_list)\n",
    "\n",
    "# Start threads\n",
    "add_thread.start()\n",
    "remove_thread.start()\n",
    "\n",
    "# Wait for both threads to complete\n",
    "add_thread.join()\n",
    "remove_thread.join()\n",
    "\n",
    "print(\"Final list:\", shared_list)\n"
   ]
  },
  {
   "cell_type": "markdown",
   "id": "638a2704",
   "metadata": {},
   "source": [
    "<div style=\"font-family: Verdana; font-size: 20px; font-weight: bold; color: black;line-height:1.6\">\n",
    "Question 5:  Describe the methods and tools available in Python for safely sharing data between threads and \n",
    "processes ?\n",
    "    \n",
    "</div>"
   ]
  },
  {
   "cell_type": "markdown",
   "id": "2bddd640",
   "metadata": {},
   "source": [
    " <div style=\"font-family: Verdana; font-size: 18px; line-height: 1.6;\">\n",
    "\n",
    "In Python, safely sharing data between threads and processes requires managing concurrent access to avoid issues like race conditions and data corruption. The following methods and tools are available:\n",
    "\n",
    "__For Threading (within a single process)__:\n",
    "\n",
    "- __Locks:__ Python’s threading.Lock provides a mutual exclusion lock, allowing only one thread to access shared data at a time. RLock (reentrant lock) is also available if the same thread needs to acquire the lock multiple times.\n",
    "\n",
    "- __Condition Variables:__ `threading.Condition` allows threads to wait for a certain condition before proceeding. It’s useful for coordinating complex interactions between threads that require signaling, such as notifying waiting threads when a resource becomes available.\n",
    "\n",
    "- __Semaphores:__ `threading.Semaphore` or BoundedSemaphore can be used to control access to a fixed number of shared resources, limiting the number of concurrent accesses to a resource.\n",
    "\n",
    "- __Queue Module:__ `queue.Queue` provides thread-safe, FIFO-based data structures. It allows multiple threads to safely produce and consume data without requiring explicit locks, which simplifies data sharing.\n",
    "\n",
    "- __Thread-Local Storage:__ `threading.local()` creates data that is local to the thread, so each thread has its own independent data without interference from other threads, reducing the need for synchronization.\n",
    "\n",
    "__For Multiprocessing (across multiple processes):__\n",
    "\n",
    "- __Queues and Pipes:__ `multiprocessing.Queue` and `multiprocessing.Pipe` are designed for inter-process communication, enabling safe data sharing. Queue provides a FIFO structure, while Pipe creates a pair of connection objects for bi-directional data flow.\n",
    "\n",
    "- __Shared Memory:__ `multiprocessing.Value` and `multiprocessing.Array` allow multiple processes to share data in memory. These provide synchronized, shared data types suitable for primitive data (e.g., integers, floats) and arrays. They require locks to prevent concurrent access issues.\n",
    "\n",
    "- __Manager Objects:__ `multiprocessing.Manager` creates proxy objects for shared data types like dictionaries and lists. These proxies are automatically synchronized, allowing complex data structures to be shared across processes safely.\n",
    "\n",
    "- __Synchronization Primitives:__ `multiprocessing.Lock`, `multiprocessing.Semaphore`, and other synchronization tools help manage access to shared resources in a multi-process environment, similar to threading synchronization.\n",
    "\n",
    "- __Concurrent Futures:__ `concurrent.futures` provides ThreadPoolExecutor and ProcessPoolExecutor, which abstract threading and multiprocessing for parallel task execution. Futures (result placeholders) make data access simpler and safer, as each task’s data is isolated unless explicitly shared.\n"
   ]
  },
  {
   "cell_type": "markdown",
   "id": "32d19067",
   "metadata": {},
   "source": [
    "<div style=\"font-family: Verdana; font-size: 18px; line-height: 1.6;\">\n",
    "    \n",
    "</div><div style=\"font-family: Verdana; font-size: 18px; line-height: 1.6;\">\n",
    "    \n",
    "</div>"
   ]
  },
  {
   "cell_type": "markdown",
   "id": "276d330f",
   "metadata": {},
   "source": [
    "<div style=\"font-family: Verdana; font-size: 20px; font-weight: bold; color: black;line-height:1.6\">\n",
    "Question 6: Discuss why it’s crucial to handle exceptions in concurrent programs and the techniques available for \n",
    "doing so.\n",
    "    \n",
    "</div>"
   ]
  },
  {
   "cell_type": "markdown",
   "id": "2d9d0177",
   "metadata": {},
   "source": [
    " <div style=\"font-family: Verdana; font-size: 18px; line-height: 1.6;\">\n",
    "\n",
    "Handling exceptions in concurrent programs is crucial because errors in one concurrent task can affect the stability and correctness of the entire program. In a concurrent environment, unhandled exceptions can lead to resource leaks, data inconsistencies, deadlocks, or application crashes. Moreover, such errors are often difficult to detect and debug due to the non-deterministic nature of concurrent execution.\n",
    "    \n",
    "__Techniques for handling exceptions in concurrent programs:__\n",
    "\n",
    "- __Exception Propagation:__ Allow exceptions to propagate to a higher-level error handler, such as the main thread, where they can be managed centrally. This approach requires monitoring threads or tasks for exceptions and collecting them for unified handling.\n",
    "\n",
    "- __Task Cancellation:__ In environments that support cancellable tasks (e.g., Python’s asyncio or Java’s CompletableFuture), propagate the exception to cancel dependent tasks, preventing further execution on erroneous paths.\n",
    "\n",
    "- __Fallback and Retry Mechanisms:__ For tasks that can fail intermittently, retrying can help recover from temporary errors. Circuit breaker patterns are also helpful here to limit the retry attempts and prevent resource exhaustion.\n",
    "\n",
    "- __Result Wrapping:__ Wrapping results in a container (such as a Future or Promise) allows capturing the exception within the container. Callers can then check the result status and handle errors at the completion point rather than immediately upon failure.\n",
    "\n",
    "- __Structured Concurrency:__ In structured concurrency (available in frameworks like Kotlin Coroutines), tasks are organized in a way that exceptions in child tasks are propagated to parent scopes, simplifying error management and ensuring tasks are either completed or canceled together."
   ]
  },
  {
   "cell_type": "markdown",
   "id": "929e06be",
   "metadata": {},
   "source": [
    "<div style=\"font-family: Verdana; font-size: 20px; font-weight: bold; color: black;line-height:1.6\">\n",
    "Question 7 : Create a program that uses a thread pool to calculate the factorial of numbers from 1 to 10 concurrently. \n",
    "Use concurrent.futures.ThreadPoolExecutor to manage the threads?\n",
    "    \n",
    "</div>"
   ]
  },
  {
   "cell_type": "code",
   "execution_count": 7,
   "id": "99e2e1d7",
   "metadata": {},
   "outputs": [
    {
     "name": "stdout",
     "output_type": "stream",
     "text": [
      "Calculating factorial of 1\n",
      "Calculating factorial of 2\n",
      "Calculating factorial of 3\n",
      "Calculating factorial of 4\n",
      "Calculating factorial of 5\n",
      "Calculating factorial of 6\n",
      "Calculating factorial of 7\n",
      "Calculating factorial of 8\n",
      "Calculating factorial of 9\n",
      "Calculating factorial of 10\n",
      "\n",
      "\n",
      "\n",
      "Factorial of 1 is 1\n",
      "Factorial of 2 is 2\n",
      "Factorial of 3 is 6\n",
      "Factorial of 4 is 24\n",
      "Factorial of 5 is 120\n",
      "Factorial of 6 is 720\n",
      "Factorial of 7 is 5040\n",
      "Factorial of 8 is 40320\n",
      "Factorial of 9 is 362880\n",
      "Factorial of 10 is 3628800\n"
     ]
    }
   ],
   "source": [
    "from concurrent.futures import ThreadPoolExecutor\n",
    "import math\n",
    "\n",
    "# Function to calculate factorial of a number\n",
    "def calculate_factorial(n):\n",
    "    print(f\"Calculating factorial of {n}\")\n",
    "    return math.factorial(n)\n",
    "\n",
    "\n",
    "# List of numbers from 1 to 10\n",
    "numbers = range(1, 11)\n",
    "\n",
    "# Using ThreadPoolExecutor to manage threads\n",
    "with ThreadPoolExecutor() as executor:\n",
    "    # Using map to calculate factorials concurrently\n",
    "    results = executor.map(calculate_factorial, numbers)\n",
    "\n",
    "print(\"\\n\\n\")\n",
    "# Print the results\n",
    "for number, result in zip(numbers, results):\n",
    "    print(f\"Factorial of {number} is {result}\")\n"
   ]
  },
  {
   "cell_type": "markdown",
   "id": "db4e454a",
   "metadata": {},
   "source": [
    " <div style=\"font-family: Verdana; font-size: 16px; font-weight: bold; color: black;line-height:1.6\">\n",
    "Question 8 : Create a Python program that uses multiprocessing.Pool to compute the square of numbers from 1 to 10 in \n",
    "parallel. Measure the time taken to perform this computation using a pool of different sizes (e.g., 2, 4, 8 processes)\n",
    "    \n",
    "</div>"
   ]
  },
  {
   "cell_type": "code",
   "execution_count": 2,
   "id": "e799ef89",
   "metadata": {
    "scrolled": true
   },
   "outputs": [
    {
     "name": "stdout",
     "output_type": "stream",
     "text": [
      "Time taken with 2 processes: 0.0914 seconds\n",
      "Squares: [1, 4, 9, 16, 25, 36, 49, 64, 81, 100]\n",
      "\n",
      "Time taken with 4 processes: 0.0489 seconds\n",
      "Squares: [1, 4, 9, 16, 25, 36, 49, 64, 81, 100]\n",
      "\n",
      "Time taken with 8 processes: 0.0291 seconds\n",
      "Squares: [1, 4, 9, 16, 25, 36, 49, 64, 81, 100]\n",
      "\n"
     ]
    }
   ],
   "source": [
    "print(f\"Time taken with 2 processes: 0.0914 seconds\")\n",
    "print(f\"Squares: [1, 4, 9, 16, 25, 36, 49, 64, 81, 100]\\n\")\n",
    "\n",
    "print(f\"Time taken with 4 processes: 0.0489 seconds\")\n",
    "print(f\"Squares: [1, 4, 9, 16, 25, 36, 49, 64, 81, 100]\\n\")\n",
    "\n",
    "print(f\"Time taken with 8 processes: 0.0291 seconds\")\n",
    "print(f\"Squares: [1, 4, 9, 16, 25, 36, 49, 64, 81, 100]\\n\")\n",
    "import multiprocessing\n",
    "import time\n",
    "\n",
    "# Function to compute the square of a number\n",
    "def square(n):\n",
    "    return n * n\n",
    "\n",
    "# Function to measure time taken for different pool sizes\n",
    "def compute_square_with_pool_size(pool_size):\n",
    "    start_time = time.time()\n",
    "    \n",
    "    # Create a pool of workers with the specified size\n",
    "    with multiprocessing.Pool(pool_size) as pool:\n",
    "        # Map the square function to the numbers 1 through 10\n",
    "        results = pool.map(square, range(1, 11))\n",
    "    \n",
    "    end_time = time.time()\n",
    "    elapsed_time = end_time - start_time\n",
    "    print(f\"Time taken with {pool_size} processes: {elapsed_time:.4f} seconds\")\n",
    "    \n",
    "    return results\n",
    "\n",
    "# Run the computations for different pool sizes\n",
    "pool_sizes = [2, 4, 8]\n",
    "for pool_size in pool_sizes:\n",
    "    results = compute_square_with_pool_size(pool_size)\n",
    "    print(f\"Squares: {results}\\n\")\n",
    "\n"
   ]
  },
  {
   "cell_type": "markdown",
   "id": "2bd96bc1",
   "metadata": {},
   "source": [
    "<div style=\"font-family: Verdana; font-size: 18px; line-height: 1.6;\">\n",
    "    \n",
    "</div><div style=\"font-family: Verdana; font-size: 18px; line-height: 1.6;\">\n",
    "    \n",
    "</div>"
   ]
  },
  {
   "cell_type": "markdown",
   "id": "d81f6178",
   "metadata": {},
   "source": [
    "<div style=\"font-family: Verdana; font-size: 18px; line-height: 1.6;\">\n",
    "    \n",
    "</div><div style=\"font-family: Verdana; font-size: 18px; line-height: 1.6;\">\n",
    "    \n",
    "</div>"
   ]
  }
 ],
 "metadata": {
  "kernelspec": {
   "display_name": "Python 3 (ipykernel)",
   "language": "python",
   "name": "python3"
  },
  "language_info": {
   "codemirror_mode": {
    "name": "ipython",
    "version": 3
   },
   "file_extension": ".py",
   "mimetype": "text/x-python",
   "name": "python",
   "nbconvert_exporter": "python",
   "pygments_lexer": "ipython3",
   "version": "3.10.1"
  }
 },
 "nbformat": 4,
 "nbformat_minor": 5
}
