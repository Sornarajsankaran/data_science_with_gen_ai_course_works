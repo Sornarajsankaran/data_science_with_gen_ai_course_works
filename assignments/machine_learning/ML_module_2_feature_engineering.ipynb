{
 "cells": [
  {
   "cell_type": "markdown",
   "id": "4573fe7d-6621-47d3-a22e-05ca77a5be66",
   "metadata": {},
   "source": [
    "___\n",
    "#  ML - MODULE 2 FEATURE ENGINEERING ASSIGNMENT\n",
    "---"
   ]
  },
  {
   "cell_type": "markdown",
   "id": "b80fc2cf",
   "metadata": {},
   "source": [
    "<div style=\"font-family: Verdana; font-size: 20px; font-weight: bold; color: black;\">\n",
    "Question 1: What is a parameter?.\n",
    "    \n",
    "</div>"
   ]
  },
  {
   "cell_type": "markdown",
   "id": "4befe220",
   "metadata": {},
   "source": [
    "<div style=\"font-family: Verdana; font-size: 18px; line-height: 1.6;\">\n",
    "In Machine Learning, a parameter refers to a variable that the learning algorithm tries to learn from the training data.\n",
    "\n",
    "For example, in linear regression, the slope (m) and intercept (b) in the equation y = mx + b are parameters.\n",
    "\n",
    "Parameters define the model and are updated during training.\n",
    "    \n",
    "    "
   ]
  },
  {
   "cell_type": "markdown",
   "id": "3cc35cf2",
   "metadata": {},
   "source": [
    "<div style=\"font-family: Verdana; font-size: 18px; line-height: 1.6;\">\n",
    "    \n",
    "</div><div style=\"font-family: Verdana; font-size: 18px; line-height: 1.6;\">\n",
    "    \n",
    "</div>"
   ]
  },
  {
   "cell_type": "markdown",
   "id": "0d0e6253",
   "metadata": {},
   "source": [
    "<div style=\"font-family: Verdana; font-size: 20px; font-weight: bold; color: black;\">\n",
    "Question 2: What is correlation?\n",
    "    \n",
    "</div>\n"
   ]
  },
  {
   "cell_type": "markdown",
   "id": "1f4cd00a",
   "metadata": {},
   "source": [
    "<div style=\"font-family: Verdana; font-size: 18px; line-height: 1.6;\">\n",
    "\n",
    "Correlation is a statistical measure that describes the strength and direction of a relationship between two variables.\n",
    "\n",
    "It ranges from -1 to +1.\n",
    "\n",
    "+1: Perfect positive correlation (both variables increase together).\n",
    "\n",
    "0: No correlation.\n",
    "\n",
    "-1: Perfect negative correlation (one increases, the other decreases).\n",
    "\n"
   ]
  },
  {
   "cell_type": "markdown",
   "id": "26bcf258",
   "metadata": {},
   "source": [
    "<div style=\"font-family: Verdana; font-size: 18px; line-height: 1.6;\">\n",
    "    \n",
    "</div><div style=\"font-family: Verdana; font-size: 18px; line-height: 1.6;\">\n",
    "    \n",
    "</div>"
   ]
  },
  {
   "cell_type": "markdown",
   "id": "c3b5e51c",
   "metadata": {},
   "source": [
    "<div style=\"font-family: Verdana; font-size: 20px; font-weight: bold; color: black;\">\n",
    "Question 3: What does negative correlation mean?\n",
    "    \n",
    "</div>\n",
    "\n"
   ]
  },
  {
   "cell_type": "markdown",
   "id": "04e81b23",
   "metadata": {},
   "source": [
    "<div style=\"font-family: Verdana; font-size: 18px; line-height: 1.6;\">\n",
    "Negative correlation means that as one variable increases, the other variable decreases.\n",
    "\n",
    "Example: Hours of exercise per day and weight — as exercise increases, weight might decrease.|"
   ]
  },
  {
   "cell_type": "markdown",
   "id": "24c2c40b",
   "metadata": {},
   "source": [
    "<div style=\"font-family: Verdana; font-size: 20px; font-weight: bold; color: black;\">\n",
    "Question 4:Define Machine Learning. What are the main components in Machine Learning?\n",
    "    \n",
    "</div>"
   ]
  },
  {
   "cell_type": "markdown",
   "id": "02ffb37a",
   "metadata": {},
   "source": [
    " <div style=\"font-family: Verdana; font-size: 18px; line-height: 1.6;\">\n",
    "    \n",
    " Machine Learning (ML) is a field of AI that enables systems to learn patterns from data and make predictions or decisions without being explicitly programmed.\n",
    "\n",
    "Main components:\n",
    "\n",
    "Data – Input features used to train the model.\n",
    "\n",
    "Features – Individual measurable properties or characteristics.\n",
    "\n",
    "Model – The mathematical function that maps inputs to outputs.\n",
    "\n",
    "Loss Function – Measures how well the model’s predictions match the actual outcomes.\n",
    "\n",
    "Algorithm – The process used to update model parameters to minimize loss (e.g., gradient descent).\n"
   ]
  },
  {
   "cell_type": "markdown",
   "id": "638a2704",
   "metadata": {},
   "source": [
    "<div style=\"font-family: Verdana; font-size: 20px; font-weight: bold; color: black;\">\n",
    "Question 5: How does loss value help in determining whether the model is good or not?\n",
    "    \n",
    "</div>\n",
    "\n"
   ]
  },
  {
   "cell_type": "markdown",
   "id": "2bddd640",
   "metadata": {},
   "source": [
    " <div style=\"font-family: Verdana; font-size: 18px; line-height: 1.6;\">\n",
    "The loss value indicates how far the model's predictions are from the actual values.\n",
    "\n",
    "- Lower loss means the model’s predictions are good.\n",
    "\n",
    "- A high loss means the model’s predictions are poor.\n",
    "\n",
    "During training, we aim to minimize the loss."
   ]
  },
  {
   "cell_type": "markdown",
   "id": "276d330f",
   "metadata": {},
   "source": [
    "<div style=\"font-family: Verdana; font-size: 20px; font-weight: bold; color: black;\">\n",
    "Question 6: What are continuous and categorical variables?\n",
    "    \n",
    "</div>"
   ]
  },
  {
   "cell_type": "markdown",
   "id": "2d9d0177",
   "metadata": {},
   "source": [
    " <div style=\"font-family: Verdana; font-size: 18px; line-height: 1.6;\">\n",
    "Continuous variables: Numeric values that can take any value within a range.\n",
    "\n",
    "Examples: Height, weight, temperature, age.\n",
    "\n",
    "Categorical variables: Variables that represent categories or groups.\n",
    "\n",
    "Examples: Gender (Male/Female), color (Red/Blue/Green), product type.\n",
    "                    "
   ]
  },
  {
   "cell_type": "markdown",
   "id": "929e06be",
   "metadata": {},
   "source": [
    "<div style=\"font-family: Verdana; font-size: 20px; font-weight: bold; color: black;\">\n",
    "Question 7: What do you mean by training and testing a dataset?\n",
    "    \n",
    "</div>"
   ]
  },
  {
   "cell_type": "markdown",
   "id": "718c3c77",
   "metadata": {},
   "source": [
    " <div style=\"font-family: Verdana; font-size: 18px; line-height: 1.6;\">\n",
    "Training dataset: This is the portion of data used to train a machine learning model, i.e., to help it learn patterns or relationships.\n",
    "\n",
    "Testing dataset: This part is used to evaluate how well the model performs on unseen data.\n",
    "\n",
    "It helps check for generalization — whether the model can perform well on new, real-world data."
   ]
  },
  {
   "cell_type": "markdown",
   "id": "db4e454a",
   "metadata": {},
   "source": [
    " <div style=\"font-family: Verdana; font-size: 20px; font-weight: bold; color: black;\">\n",
    "Question 8 :  What is sklearn.preprocessing?\n",
    "    \n",
    "</div>"
   ]
  },
  {
   "cell_type": "markdown",
   "id": "a96aeb49",
   "metadata": {},
   "source": [
    " <div style=\"font-family: Verdana; font-size: 18px; line-height: 1.6;\">\n",
    "\n",
    "sklearn.preprocessing is a module in Scikit-learn that provides tools to prepare data before training.\n",
    "\n",
    "Some common preprocessing techniques include:\n",
    "\n",
    "Scaling: StandardScaler, MinMaxScaler – to normalize numeric data.\n",
    "\n",
    "Encoding: LabelEncoder, OneHotEncoder – to convert categorical variables into numerical form.\n",
    "\n",
    "Imputation: SimpleImputer – to handle missing values.\n",
    "    "
   ]
  },
  {
   "cell_type": "markdown",
   "id": "d1278c40",
   "metadata": {},
   "source": [
    " <div style=\"font-family: Verdana; font-size: 20px; font-weight: bold; color: black;\">\n",
    "Question 9 :  What is a Test set?\n",
    "    \n",
    "</div>"
   ]
  },
  {
   "cell_type": "markdown",
   "id": "1607cc28",
   "metadata": {},
   "source": [
    " <div style=\"font-family: Verdana; font-size: 18px; line-height: 1.6;\">\n",
    "\n",
    "A Test set is a portion of the dataset reserved for evaluating the trained model’s performance.\n",
    "\n",
    "It is not used during training.\n",
    "\n",
    "It gives an unbiased estimate of the model’s accuracy on new data.\n",
    "    \n",
    "    "
   ]
  },
  {
   "cell_type": "markdown",
   "id": "c90db7aa",
   "metadata": {},
   "source": [
    " <div style=\"font-family: Verdana; font-size: 20px; font-weight: bold; color: black;\">\n",
    "    \n",
    "Question 10 : How do we split data for model fitting (training and testing) in Python?\n",
    "    \n",
    "</div>\n"
   ]
  },
  {
   "cell_type": "markdown",
   "id": "a1ed94f9",
   "metadata": {},
   "source": [
    " <div style=\"font-family: Verdana; font-size: 18px; line-height: 1.6;\">\n",
    "We typically use train_test_split() from Scikit-learn:\n",
    "    \n",
    "```python\n",
    "from sklearn.model_selection import train_test_split\n",
    "\n",
    "X_train, X_test, y_train, y_test = train_test_split(X, y, test_size=0.2, random_state=42)\n"
   ]
  },
  {
   "cell_type": "markdown",
   "id": "9deb2654",
   "metadata": {},
   "source": [
    " <div style=\"font-family: Verdana; font-size: 20px; font-weight: bold; color: black;\">\n",
    "    \n",
    "Question 11 : How do you approach a Machine Learning problem?\n",
    "</div>\n"
   ]
  },
  {
   "cell_type": "markdown",
   "id": "eb2c0d23",
   "metadata": {},
   "source": [
    "<div style=\"font-family: Verdana; font-size: 18px; line-height: 1.6;\">\n",
    " \n",
    "A typical ML workflow:\n",
    "\n",
    "Understand the problem – classification, regression, etc.\n",
    "\n",
    "Collect and explore the data.\n",
    "\n",
    "Perform EDA (Exploratory Data Analysis) – understand data distributions, missing values, etc.\n",
    "\n",
    "Preprocess data – scaling, encoding, handling nulls.\n",
    "\n",
    "Split data into training and testing sets.\n",
    "\n",
    "Select and train a model.\n",
    "\n",
    "Evaluate performance – accuracy, precision, recall, etc.\n",
    "\n",
    "Tune hyperparameters if needed.\n",
    "\n",
    "Deploy or interpret the results."
   ]
  },
  {
   "cell_type": "markdown",
   "id": "4b198504-9708-49d5-bcf7-f57f33f4be88",
   "metadata": {},
   "source": [
    "<div style=\"font-family: Verdana; font-size: 16px; font-weight: bold; color: black;\">\n",
    "Question 12: Why do we have to perform EDA before fitting a model to the data?\n",
    "</div>"
   ]
  },
  {
   "cell_type": "markdown",
   "id": "521e7f0a",
   "metadata": {},
   "source": [
    "<div style=\"font-family: Verdana; font-size: 18px; line-height: 1.6;\">\n",
    " \n",
    "EDA (Exploratory Data Analysis) helps you:\n",
    "\n",
    "Understand the structure, distribution, and quality of the data.\n",
    "\n",
    "Detect missing values, outliers, or inconsistencies.\n",
    "\n",
    "Identify useful features and remove irrelevant ones.\n",
    "\n",
    "Choose the right preprocessing and modeling techniques.\n",
    "\n",
    "    Without EDA, models may give poor results or learn incorrect patterns."
   ]
  },
  {
   "cell_type": "markdown",
   "id": "67d7f7dc",
   "metadata": {},
   "source": [
    "<div style=\"font-family: Verdana; font-size: 16px; font-weight: bold; color: black;\">\n",
    "Question 13: What is correlation?\n",
    "</div>"
   ]
  },
  {
   "cell_type": "markdown",
   "id": "4cdc4d0c",
   "metadata": {},
   "source": [
    "<div style=\"font-family: Verdana; font-size: 18px; line-height: 1.6;\">\n",
    "    \n",
    " Correlation is a statistical metric that shows how strongly two variables are related.\n",
    "\n",
    "Positive correlation: both variables increase together.\n",
    "\n",
    "Negative correlation: one increases, the other decreases.\n",
    "\n",
    "Zero correlation: no relationship.\n",
    "\n",
    "In ML, correlation helps in feature selection by identifying redundant or influential features."
   ]
  },
  {
   "cell_type": "markdown",
   "id": "6569ff7d",
   "metadata": {},
   "source": [
    "<div style=\"font-family: Verdana; font-size: 16px; font-weight: bold; color: black;\">\n",
    "Question 14: Why do we have to perform EDA before fitting a model to the data?\n",
    "</div>"
   ]
  },
  {
   "cell_type": "markdown",
   "id": "8b724fa1",
   "metadata": {},
   "source": [
    "<div style=\"font-family: Verdana; font-size: 18px; line-height: 1.6;\">\n",
    " Negative correlation means that as one variable increases, the other variable decreases.\n",
    "\n",
    "Example: If study time increases and error rate in exams decreases, they have a negative correlation.\n",
    "\n",
    "Correlation value: Between -1 (perfect negative) and 0.\n",
    "\n"
   ]
  },
  {
   "cell_type": "markdown",
   "id": "990de8a5",
   "metadata": {},
   "source": [
    "<div style=\"font-family: Verdana; font-size: 16px; font-weight: bold; color: black;\">\n",
    "Question 15: How can you find correlation between variables in Python?\n",
    "</div>"
   ]
  },
  {
   "cell_type": "markdown",
   "id": "e4c8439a",
   "metadata": {},
   "source": [
    "<div style=\"font-family: Verdana; font-size: 18px; line-height: 1.6;\">\n",
    " You can use the .corr() method with a Pandas DataFrame:\n",
    "\n",
    "```python\n",
    "import pandas as pd\n",
    "\n",
    "df = pd.read_csv(\"data.csv\")\n",
    "correlation_matrix = df.corr()\n",
    "print(correlation_matrix)\n"
   ]
  },
  {
   "cell_type": "markdown",
   "id": "9c45dc03",
   "metadata": {},
   "source": [
    "<div style=\"font-family: Verdana; font-size: 16px; font-weight: bold; color: black;\">\n",
    "Question 16:  What is causation? Explain difference between correlation and causation with an example.\n",
    "</div>"
   ]
  },
  {
   "cell_type": "markdown",
   "id": "729719ff",
   "metadata": {},
   "source": [
    "<div style=\"font-family: Verdana; font-size: 18px; line-height: 1.6;\">\n",
    "  Causation means one variable directly causes a change in another.\n",
    "\n",
    "Correlation means two variables are related, but one does not necessarily cause the other.\n",
    "\n",
    "Example:\n",
    "\n",
    "Correlation: Ice cream sales and drowning deaths both increase in summer.\n",
    "\n",
    "Causation: Ice cream doesn’t cause drowning. The real cause is hot weather.\n",
    "\n",
    "So, correlation ≠ causation."
   ]
  },
  {
   "cell_type": "markdown",
   "id": "894e208f",
   "metadata": {},
   "source": [
    "<div style=\"font-family: Verdana; font-size: 16px; font-weight: bold; color: black;\">\n",
    "Question 17: What is an Optimizer? What are different types of optimizers? Explain each with an example\n",
    "</div>"
   ]
  },
  {
   "cell_type": "markdown",
   "id": "080230df",
   "metadata": {},
   "source": [
    "<div style=\"font-family: Verdana; font-size: 18px; line-height: 1.6;\">\n",
    " An Optimizer updates the model's parameters (like weights) to minimize the loss function during training.\n",
    "\n",
    "Example optimizers:\n",
    "\n",
    "SGD (Stochastic Gradient Descent):\n",
    "\n",
    "Updates weights using a small batch of data.\n",
    "\n"
   ]
  },
  {
   "cell_type": "markdown",
   "id": "c6430ee8",
   "metadata": {},
   "source": [
    "<div style=\"font-family: Verdana; font-size: 16px; font-weight: bold; color: black;\">\n",
    "Question 18: What does model.fit() do? What arguments must be given?\n",
    "</div>"
   ]
  },
  {
   "cell_type": "markdown",
   "id": "4cb89d42",
   "metadata": {},
   "source": [
    "<div style=\"font-family: Verdana; font-size: 18px; line-height: 1.6;\">\n",
    " The .fit() method trains the model on the given dataset.\n",
    "X_train: Feature matrix (independent variables).\n",
    "\n",
    "y_train: Target values (labels)."
   ]
  },
  {
   "cell_type": "markdown",
   "id": "154c2463",
   "metadata": {},
   "source": [
    "<div style=\"font-family: Verdana; font-size: 16px; font-weight: bold; color: black;\">\n",
    "Question 19:What are continuous and categorical variables?\n",
    "</div>"
   ]
  },
  {
   "cell_type": "markdown",
   "id": "61c5bbf0",
   "metadata": {},
   "source": [
    "<div style=\"font-family: Verdana; font-size: 18px; line-height: 1.6;\">\n",
    " Continuous variables: Numeric, can take any value within a range.\n",
    "\n",
    "Examples: Age, temperature, income.\n",
    "\n",
    "Categorical variables: Represent categories or groups.\n",
    "\n",
    "Examples: Gender (Male/Female), Blood Type (A/B/O)."
   ]
  },
  {
   "cell_type": "markdown",
   "id": "8aba43b0",
   "metadata": {},
   "source": [
    "<div style=\"font-family: Verdana; font-size: 16px; font-weight: bold; color: black;\">\n",
    "Question 20: What is feature scaling? How does it help in Machine Learning?\n",
    "\n",
    "</div>"
   ]
  },
  {
   "cell_type": "markdown",
   "id": "7d0a2cd3",
   "metadata": {},
   "source": [
    "<div style=\"font-family: Verdana; font-size: 18px; line-height: 1.6;\">\n",
    " Feature scaling transforms numerical features so they have a similar scale (e.g., 0 to 1 or mean = 0, std = 1).\n",
    "\n",
    "It helps:\n",
    "\n",
    "Models like KNN, SVM, Gradient Descent converge faster.\n",
    "\n",
    "Prevents variables with large ranges from dominating the model.\n",
    "\n"
   ]
  },
  {
   "cell_type": "markdown",
   "id": "57752928",
   "metadata": {},
   "source": [
    "<div style=\"font-family: Verdana; font-size: 16px; font-weight: bold; color: black;\">\n",
    "Question 21: How do we perform scaling in Python?\n",
    "</div>"
   ]
  },
  {
   "cell_type": "markdown",
   "id": "dfde55a8",
   "metadata": {},
   "source": [
    "<div style=\"font-family: Verdana; font-size: 18px; line-height: 1.6;\">\n",
    " Using sklearn.preprocessing:\n",
    "\n",
    "StandardScaler (Z-score normalization):\n",
    "    \n",
    "```python\n",
    "from sklearn.preprocessing import StandardScaler\n",
    "\n",
    "scaler = StandardScaler()\n",
    "X_scaled = scaler.fit_transform(X)\n"
   ]
  },
  {
   "cell_type": "markdown",
   "id": "a18352e6",
   "metadata": {},
   "source": [
    "<div style=\"font-family: Verdana; font-size: 18px; line-height: 1.6;\">\n",
    " MinMaxScaler (0 to 1 normalization):\n",
    "\n",
    "```python\n",
    "from sklearn.preprocessing import MinMaxScaler\n",
    "\n",
    "scaler = MinMaxScaler()\n",
    "X_scaled = scaler.fit_transform(X)\n",
    "\n"
   ]
  }
 ],
 "metadata": {
  "kernelspec": {
   "display_name": "Python 3 (ipykernel)",
   "language": "python",
   "name": "python3"
  },
  "language_info": {
   "codemirror_mode": {
    "name": "ipython",
    "version": 3
   },
   "file_extension": ".py",
   "mimetype": "text/x-python",
   "name": "python",
   "nbconvert_exporter": "python",
   "pygments_lexer": "ipython3",
   "version": "3.10.1"
  }
 },
 "nbformat": 4,
 "nbformat_minor": 5
}
