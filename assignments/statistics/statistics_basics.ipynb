{
 "cells": [
  {
   "cell_type": "markdown",
   "id": "4573fe7d-6621-47d3-a22e-05ca77a5be66",
   "metadata": {},
   "source": [
    "___ \n",
    "#                                 STATISTICS BASICS ASSIGNMENT\n",
    "---\n"
   ]
  },
  {
   "cell_type": "markdown",
   "id": "b80fc2cf",
   "metadata": {},
   "source": [
    "<div style=\"font-family: Verdana; font-size: 20px; font-weight: bold; color: black;line-height:1.6\"> Explain the different types of data (qualitative and quantitative) and provide examples of each. Discuss \n",
    "nominal, ordinal, interval, and ratio scales?\n",
    "    \n",
    "</div>"
   ]
  },
  {
   "cell_type": "markdown",
   "id": "4befe220",
   "metadata": {},
   "source": [
    "<div style=\"font-family: Verdana; font-size: 18px; line-height: 1.6;\">\n",
    "    \n",
    "    \n",
    "Data is a collection of information gathered by observations, measurements, research or analysis. Data can be classified into two types qualitative and quantitative.\n",
    "    \n",
    "\n",
    "__1. Qualitative Data:__\n",
    "    \n",
    "- Descriptive data that cannot be measured numerically but can be categorized.\n",
    "- Qualitative data can be further classified into two types.\n",
    "    1. Nominal data\n",
    "    2. Ordinal data\n",
    "    \n",
    "Examples:\n",
    "- Colors of cars (red, blue, black).\n",
    "- Types of cuisines (Italian, Chinese, Indian).\n",
    "- Customer feedback (positive, neutral, negative).\n",
    "    \n",
    "__2. Quantitative Data:__\n",
    "    \n",
    "- Numerical data that can be measured or counted.\n",
    "- Quantitative data can be further divided into two types.\n",
    "    1. Discrete data\n",
    "    2. Continuos data\n",
    "    \n",
    "Examples:\n",
    "    \n",
    "- Number of students in a class (e.g., 35).\n",
    "- Height of individuals (e.g., 170 cm).\n",
    "- Test scores (e.g., 85 out of 100).\n",
    "\n",
    "     \n",
    "__Scales of Measurement:__\n",
    "    \n",
    "__1. Nominal Scale:__\n",
    "__Definition:__ Categorizes data without any order or ranking.\n",
    "\n",
    "__Characteristics:__\n",
    "- Categories are distinct and mutually exclusive.\n",
    "- No inherent numeric value or ranking.\n",
    "Examples:\n",
    "-Gender (Male, Female).\n",
    "- Eye colors (Blue, Green, Brown).\n",
    "- Blood groups (A, B, AB, O).\n",
    "\n",
    "    \n",
    "__2. Ordinal Scale:__\n",
    "    \n",
    "__Definition:__ Categorizes data with a meaningful order or ranking but without consistent differences between ranks.\n",
    "    \n",
    "__Characteristics:__\n",
    "- Shows relative position.\n",
    "- Cannot quantify the exact difference between categories.\n",
    "\n",
    "Examples:\n",
    "- Movie ratings (Poor, Average, Good, Excellent).\n",
    "- Education levels (High School, Bachelor’s, Master’s, PhD).\n",
    "- Customer satisfaction (1 = Very Unsatisfied, 5 = Very Satisfied).\n",
    "\n",
    "__3. Interval Scale:__\n",
    "\n",
    "__Definition:__ Measures data with equal intervals between values but no true zero point.\n",
    "\n",
    "__Characteristics:__\n",
    "- Differences between values are meaningful.\n",
    "- Ratios are not meaningful because there’s no true zero.\n",
    "\n",
    "Examples:\n",
    "- Temperature in Celsius or Fahrenheit (e.g., 20°C, 30°C).\n",
    "- Dates on a calendar (e.g., 2000, 2020).\n",
    "- IQ scores.\n",
    "\n",
    "__4. Ratio Scale:__\n",
    "    \n",
    "__Definition:__ Measures data with equal intervals and a true zero point, allowing for meaningful ratios.\n",
    "\n",
    "__Characteristics:__\n",
    "- Can calculate both differences and ratios.\n",
    "- True zero indicates the absence of the property being measured.\n",
    "\n",
    "Examples:\n",
    "- Weight (e.g., 50 kg, 100 kg).\n",
    "- Height (e.g., 150 cm, 175 cm).\n",
    "- Income (e.g., $0, $5000).\n"
   ]
  },
  {
   "cell_type": "markdown",
   "id": "3cc35cf2",
   "metadata": {},
   "source": [
    "<div style=\"font-family: Verdana; font-size: 18px; line-height: 1.6;\">\n",
    "    \n",
    "</div><div style=\"font-family: Verdana; font-size: 18px; line-height: 1.6;\">\n",
    "    \n",
    "</div>"
   ]
  },
  {
   "cell_type": "markdown",
   "id": "b4d99976",
   "metadata": {},
   "source": [
    "<div style=\"font-family: Verdana; font-size: 18px; line-height: 1.6;\">\n",
    "    \n",
    "</div><div style=\"font-family: Verdana; font-size: 18px; line-height: 1.6;\">\n",
    "    \n",
    "</div>"
   ]
  },
  {
   "cell_type": "markdown",
   "id": "0d0e6253",
   "metadata": {},
   "source": [
    "<div style=\"font-family: Verdana; font-size: 20px; font-weight: bold; color: black;line-height:1.6\"> What are the measures of central tendency, and when should you use each? Discuss the mean, median, and mode with examples and situations where each is appropriate\n",
    "</div>\n"
   ]
  },
  {
   "cell_type": "markdown",
   "id": "f0b45ea5",
   "metadata": {},
   "source": [
    "<div style=\"font-family: Verdana; font-size: 18px; line-height: 1.6;\">\n",
    "\n",
    "__Measures of Central Tendency__\n",
    "    \n",
    "The measures of central tendency are statistical tools used to identify a central or typical value in a dataset. The three primary measures are:\n",
    "\n",
    "__1. Mean (Arithmetic Average):__\n",
    "\n",
    "Definition: The sum of all data points divided by the number of data points.\n",
    "    \n",
    "__FORMULA:__"
   ]
  },
  {
   "cell_type": "markdown",
   "id": "18fa1202",
   "metadata": {},
   "source": [
    "<div style=\"font-family: Verdana; font-size: 18px; line-height: 1.6;\">\n",
    "\\[\n",
    "\\text{Mean} = \\frac{\\text{Sum of all values}}{\\text{Number of values}}\n",
    "\\]\n",
    "\n",
    "__When to Use:__\n",
    "- Data is numeric and symmetric (not heavily skewed).\n",
    "- Outliers (extremely high or low values) are minimal or not present.\n",
    "    \n",
    "    \n",
    "__2. Median (Middle Value)__\n",
    "\n",
    "__Definition:__ The middle value when the data is ordered from smallest to largest. If there’s an even number of data points, the median is the average of the two middle values.\n",
    "    \n",
    "__When to Use:__\n",
    "- Data is skewed or contains outliers.\n",
    "- You need a “resistant” measure of central tendency.\n",
    "    \n",
    "__3.Mode (Most Frequent Value):__\n",
    "    \n",
    "__Definition:__ The value that appears most frequently in a dataset. A dataset can have:\n",
    "- No mode (no repeated values).\n",
    "- One mode (unimodal).\n",
    "- Two modes (bimodal).\n",
    "- More than two modes (multimodal).\n",
    "\n",
    "__When to Use:__\n",
    "- Data is categorical (e.g., survey responses or product preferences).\n",
    "- You need the most common or typical value.\n",
    "    "
   ]
  },
  {
   "cell_type": "markdown",
   "id": "26bcf258",
   "metadata": {},
   "source": [
    "<div style=\"font-family: Verdana; font-size: 18px; line-height: 1.6;\">\n",
    "    \n",
    "</div><div style=\"font-family: Verdana; font-size: 18px; line-height: 1.6;\">\n",
    "    \n",
    "</div>"
   ]
  },
  {
   "cell_type": "markdown",
   "id": "c3b5e51c",
   "metadata": {},
   "source": [
    "<div style=\"font-family: Verdana; font-size: 20px; font-weight: bold; color: black;line-height:1.6\">\n",
    "Explain the concept of dispersion. How do variance and standard deviation measure the spread of data?\n",
    "    \n",
    "</div>\n",
    "\n"
   ]
  },
  {
   "cell_type": "markdown",
   "id": "96590c7a",
   "metadata": {},
   "source": [
    "<div style=\"font-family: Verdana; font-size: 18px; line-height: 1.6;\">\n",
    "\n",
    "**Dispersion** refers to the spread or variability of data points in a dataset. It indicates how much the data points deviate from the central value (mean, median, or mode). Dispersion is important because it provides insights into the reliability, consistency, and diversity of the data.\n",
    "\n",
    "\n",
    "__Types of Dispersion:__\n",
    "    \n",
    "1. **Range**: The difference between the maximum and minimum values.\n",
    "2. **Variance**: The average of the squared differences from the mean.\n",
    "3. **Standard Deviation**: The square root of the variance.\n",
    "4. **Interquartile Range (IQR)**: The range of the middle 50% of data (difference between the 75th and 25th percentiles).\n",
    "\n",
    "\n",
    "**Variance**\n",
    "    \n",
    "- **Definition**: Variance measures the average squared deviation of each data point from the mean. It quantifies how far the data points are spread out.\n",
    "\n",
    "__Formula__:"
   ]
  },
  {
   "cell_type": "markdown",
   "id": "c0bce3be",
   "metadata": {},
   "source": [
    "<div style=\"font-family: Verdana; font-size: 18px; line-height: 1.6;\">\n",
    "  \\[\n",
    "  \\text{Variance} (\\sigma^2) = \\frac{\\sum_{i=1}^n (x_i - \\bar{x})^2}{n}\n",
    "  \\]\n",
    "    \n",
    "  Where:\n",
    "  - x_i : Each data point.\n",
    "  - x_bar : Mean of the dataset.\n",
    "  - n : Number of data points.\n"
   ]
  },
  {
   "cell_type": "markdown",
   "id": "9d994b5d",
   "metadata": {},
   "source": [
    "<div style=\"font-family: Verdana; font-size: 18px; line-height: 1.6;\">\n",
    "\n",
    "**Standard Deviation:**\n",
    "\n",
    "**Definition**: Standard deviation is the square root of variance. It represents the average distance of each data point from the mean.\n",
    "\n",
    "**Formula**:\n",
    "    "
   ]
  },
  {
   "cell_type": "markdown",
   "id": "33af9008",
   "metadata": {},
   "source": [
    "<div style=\"font-family: Verdana; font-size: 18px; line-height: 1.6;\">\n",
    "  \\[\n",
    "  \\text{Standard Deviation} (\\sigma) = \\sqrt{\\frac{\\sum_{i=1}^n (x_i - \\bar{x})^2}{n}}\n",
    "  \\]    "
   ]
  },
  {
   "cell_type": "markdown",
   "id": "50d60b9d",
   "metadata": {},
   "source": [
    "<div style=\"font-family: Verdana; font-size: 18px; line-height: 1.6;\">\n",
    "\n",
    "**Key Differences Between Variance and Standard Deviation**\n",
    "\n",
    "| **Aspect**           | **Variance (\\(\\sigma^2\\))**          | **Standard Deviation (\\(\\sigma\\))**       |\n",
    "|-----------------------|---------------------------------------|-------------------------------------------|\n",
    "| **Definition**        | Average of squared deviations.       | Square root of the variance.              |\n",
    "| **Units**             | Squared units of the data.           | Same units as the data.                   |\n",
    "| **Interpretability**  | Harder to interpret due to squaring. | Easier to interpret in real-world terms.  |\n",
    "\n",
    "\n",
    "**Real-Life Applications:**\n",
    "\n",
    "**Variance**:\n",
    "  - Assess risk in finance (e.g., variability of stock returns).\n",
    "  - Compare the spread of two different datasets.\n",
    "\n",
    "**Standard Deviation**:\n",
    "  - Understand the consistency of test scores.\n",
    "  - Evaluate the reliability of manufacturing processes (e.g., deviation in product dimensions).\n"
   ]
  },
  {
   "cell_type": "markdown",
   "id": "24c2c40b",
   "metadata": {},
   "source": [
    "<div style=\"font-family: Verdana; font-size: 20px; font-weight: bold; color: black; line-height:1.6\">\n",
    "<!-- Question 4: What is a box plot, and what can it tell you about the distribution of data -->\n",
    "</div>"
   ]
  },
  {
   "cell_type": "markdown",
   "id": "ded7f163",
   "metadata": {},
   "source": [
    "<div style=\"font-family: Verdana; font-size: 20px; font-weight: bold; color: black;line-height:1.6\">\n",
    "\n",
    "What is a box plot, and what can it tell you about the distribution of data."
   ]
  },
  {
   "cell_type": "markdown",
   "id": "77635149",
   "metadata": {},
   "source": [
    "<div style=\"font-family: Verdana; font-size: 18px; line-height: 1.6;\">\n",
    "    \n",
    "A box plot (also known as a box-and-whisker plot) is a graphical representation of the distribution of a dataset. It provides a summary of the data's range, central tendency, and variability, and is particularly useful for identifying outliers. A box plot displays the following key components:\n",
    "    \n",
    "\n",
    "__Components of a Box Plot:__\n",
    "\n",
    "- __Minimum (Lower Whisker):__ The smallest data point within 1.5 times the interquartile range (IQR) from the first quartile (Q1).\n",
    "- __First Quartile (Q1):__ The 25th percentile of the data, which is the median of the lower half of the data.\n",
    "- __Median (Q2 or 50th percentile):__ The middle value that separates the dataset into two equal parts.\n",
    "- __Third Quartile (Q3):__ The 75th percentile of the data, which is the median of the upper half of the data.\n",
    "- __Maximum (Upper Whisker):__ The largest data point within 1.5 times the IQR from the third quartile (Q3).\n",
    "- __Interquartile Range (IQR):__ The distance between Q1 and Q3, which contains the middle 50% of the data.\n",
    "- __Outliers:__ Data points that fall outside the range defined by the whiskers (i.e., beyond 1.5 times the IQR above Q3 or below Q1)."
   ]
  },
  {
   "cell_type": "markdown",
   "id": "ac06698e",
   "metadata": {},
   "source": [
    "<div style=\"font-family: Verdana; font-size: 18px; line-height: 1.6;\">\n",
    "    \n",
    "__USE OF BOX PLOT:__\n",
    "\n",
    "- __Central Tendency:__ The position of the median line inside the box shows the central tendency of the data.\n",
    "- __Spread or Variability:__ The length of the box (IQR) and the whiskers show the spread or variability in the dataset. A wider box and longer whiskers indicate more variability.\n",
    "- __Skewness:__ If the median is closer to Q1 or Q3, it can indicate skewness. For example, if the median is closer to Q1, the data may be right-skewed (positively skewed), and if it's closer to Q3, the data may be left-skewed (negatively skewed).\n",
    "- __Outliers:__ Data points that lie outside the whiskers are considered outliers. These points can be indicative of unusual or extreme values in the dataset."
   ]
  },
  {
   "cell_type": "code",
   "execution_count": 4,
   "id": "ab723557",
   "metadata": {},
   "outputs": [
    {
     "data": {
      "image/png": "[encoded data removed]",
      "text/plain": [
       "<Figure size 640x480 with 1 Axes>"
      ]
     },
     "metadata": {},
     "output_type": "display_data"
    }
   ],
   "source": [
    "import matplotlib.pyplot as plt\n",
    "import seaborn as sns\n",
    "\n",
    "# Sample dataset\n",
    "data = [45, 55, 60, 65, 70, 75, 80, 85, 90, 95]\n",
    "\n",
    "# Create the box plot\n",
    "sns.boxplot(data=data)\n",
    "\n",
    "# Set plot title and labels\n",
    "plt.title('Box Plot')\n",
    "plt.xlabel('Dataset')\n",
    "\n",
    "# Display the plot\n",
    "plt.show()\n"
   ]
  },
  {
   "cell_type": "markdown",
   "id": "638a2704",
   "metadata": {},
   "source": [
    "<div style=\"font-family: Verdana; font-size: 20px; font-weight: bold; color: black;line-height:1.6\">\n",
    "Discuss the role of random sampling in making inferences about populations ?\n",
    "    \n",
    "</div>"
   ]
  },
  {
   "cell_type": "markdown",
   "id": "2bddd640",
   "metadata": {},
   "source": [
    " <div style=\"font-family: Verdana; font-size: 18px; line-height: 1.6;\">\n",
    "\n",
    "Random sampling is a fundamental concept in statistics used to make inferences about a population based on a sample. The idea is to select a representative subset of individuals or observations from the population in such a way that each member of the population has an equal chance of being selected. This allows statisticians to generalize findings from the sample to the entire population.\n",
    "\n",
    "__1. Ensuring Representativeness__\n",
    "    \n",
    "Random sampling ensures that every member of the population has an equal chance of being selected. This reduces bias, meaning the sample is more likely to reflect the characteristics of the population accurately. When a sample is representative, the conclusions drawn from the sample can be confidently extended to the entire population.\n",
    "\n",
    "Example: If you want to understand the average income of a country's citizens, randomly sampling individuals across different cities and regions ensures that you're not overrepresenting certain groups (e.g., wealthier areas or particular regions).\n",
    "\n",
    "__2. Reducing Bias__\n",
    "Random sampling helps eliminate sampling bias, where certain individuals or groups might be systematically excluded from the sample. By giving every individual an equal chance to be selected, random sampling minimizes the chance of over- or under-representing any particular characteristic of the population.\n",
    "\n",
    "Example: In a study on student preferences for online vs. in-person classes, selecting students from different universities and different disciplines ensures that the results are not skewed by any specific university or field of study.\n",
    "\n",
    "__3. Enabling Statistical Inference__\n",
    "    \n",
    "Random sampling forms the basis for statistical inference, which is the process of drawing conclusions about a population from sample data. With random sampling, we can apply probability theory to estimate population parameters (e.g., mean, proportion) and assess the accuracy of our estimates.\n",
    "\n",
    "- Point Estimates: A single value (e.g., sample mean) used to estimate a population parameter (e.g., population mean).\n",
    "- Confidence Intervals: A range of values around the point estimate that is likely to contain the true population parameter, providing a measure of uncertainty.\n",
    "- Hypothesis Testing: Testing assumptions or hypotheses about a population using sample data.\n",
    "\n",
    "__4. Enabling Generalization__\n",
    "    \n",
    "When data is collected through random sampling, researchers can generalize findings to the broader population with a known level of confidence. This generalization is often quantified using sampling error, which gives an estimate of how much the sample result might differ from the true population value.\n",
    "\n",
    "Example: If a random sample of 1,000 voters in a country shows that 60% support a particular candidate, researchers can infer, with a certain margin of error, the proportion of all voters in the country who support that candidate.\n",
    "\n",
    "__5. Central Limit Theorem__\n",
    "    \n",
    "The Central Limit Theorem (CLT) plays a key role in random sampling. It states that, regardless of the population distribution, the sampling distribution of the sample mean (or other sample statistics) will tend to be normally distributed as the sample size increases. This is important because it allows us to make inferences about the population using well-established techniques based on the normal distribution, even if the population itself is not normally distributed.\n",
    "\n",
    "Example: Even if the population data on people's ages in a city is skewed, random sampling of a sufficiently large number of people will result in a sample mean that is approximately normally distributed. This allows for the use of confidence intervals and hypothesis tests.\n",
    "\n",
    "__6. Reducing the Risk of Overfitting:__\n",
    "    \n",
    "By using random sampling, researchers reduce the risk of overfitting their models to the data. Overfitting occurs when a model learns patterns that are specific to the sample data but don't generalize well to the entire population. Random sampling provides a variety of data points that help create models that are more likely to generalize well.\n",
    "\n",
    "Example: In machine learning, using random sampling for training and testing datasets helps ensure that the model is not just memorizing the data but can generalize to new, unseen data.\n",
    "\n"
   ]
  },
  {
   "cell_type": "markdown",
   "id": "32d19067",
   "metadata": {},
   "source": [
    "<div style=\"font-family: Verdana; font-size: 18px; line-height: 1.6;\">\n",
    "    \n",
    "</div><div style=\"font-family: Verdana; font-size: 18px; line-height: 1.6;\">\n",
    "    \n",
    "</div>"
   ]
  },
  {
   "cell_type": "markdown",
   "id": "276d330f",
   "metadata": {},
   "source": [
    "<div style=\"font-family: Verdana; font-size: 20px; font-weight: bold; color: black;line-height:1.6\">\n",
    "Explain the concept of skewness and its types. How does skewness affect the interpretation of data\n",
    "    \n",
    "</div>"
   ]
  },
  {
   "cell_type": "markdown",
   "id": "2d9d0177",
   "metadata": {},
   "source": [
    " <div style=\"font-family: Verdana; font-size: 18px; line-height: 1.6;\">\n",
    "\n",
    "Skewness refers to the asymmetry or lack of symmetry in the distribution of data. In a perfectly symmetrical distribution, such as the normal distribution, the left and right sides are mirror images of each other. When data is skewed, one side of the distribution is longer or fatter than the other, causing the data to deviate from symmetry.\n",
    "\n",
    "__Types of Skewness__\n",
    "\n",
    "__1.Positive Skew (Right Skew):__\n",
    "\n",
    "__Definition:__ A distribution is positively skewed (or right-skewed) when the right tail (the larger values) is longer or fatter than the left tail (the smaller values).\n",
    "\n",
    "__Characteristics:__\n",
    "\n",
    "- The mean is greater than the median because the higher values pull the mean to the right.\n",
    "- The mode is less than the median, and the median is less than the mean.\n",
    "- The distribution has a cluster of data on the lower side, and outliers tend to be on the higher side.\n",
    "\n",
    "Example:\n",
    "- Income distribution in many countries is often right-skewed.\n",
    "- A small number of individuals earn very high incomes, which skews the data to the right.\n",
    "    \n",
    "\n",
    "__2.Negative Skew (Left Skew)__:\n",
    "\n",
    "__Definition:__ A distribution is negatively skewed (or left-skewed) when the left tail (the smaller values) is longer or fatter than the right tail (the larger values).\n",
    "\n",
    "__Characteristics:__\n",
    "\n",
    "- The mean is less than the median because the lower values pull the mean to the left.\n",
    "- The mode is greater than the median, and the median is greater than the mean.\n",
    "- The distribution has a cluster of data on the higher side, and outliers tend to be on the lower side.\n",
    "\n",
    "    Example:\n",
    "The age at retirement may be left-skewed, with most people retiring around the same age, but a few people retiring much earlier (at younger ages).\n",
    "    \n",
    "    \n",
    "__Symmetric Distribution (Zero Skewness):__\n",
    "\n",
    "__Definition:__ A perfectly symmetric distribution has zero skewness. The left and right tails are identical in length and shape, and the mean, median, and mode are all located at the center of the distribution.\n",
    "\n",
    "__Characteristics:__\n",
    "\n",
    "- The mean, median, and mode are equal or close to each other.\n",
    "- The distribution has a bell-shaped curve, like the normal distribution.\n",
    "\n",
    "Example: The height distribution of a population is often approximately symmetric."
   ]
  },
  {
   "cell_type": "markdown",
   "id": "929e06be",
   "metadata": {},
   "source": [
    "<div style=\"font-family: Verdana; font-size: 20px; font-weight: bold; color: black;line-height:1.6\"> What is the interquartile range (IQR), and how is it used to detect outliers ?\n",
    "    \n",
    "</div>"
   ]
  },
  {
   "cell_type": "markdown",
   "id": "82b8ec75",
   "metadata": {},
   "source": [
    " <div style=\"font-family: Verdana; font-size: 18px; line-height: 1.6;\">\n",
    "    \n",
    "The Interquartile Range (IQR) is a measure of statistical dispersion, or how spread out the data is, by describing the range within which the middle 50% of the data lies. It is used to identify the spread of data in a way that is resistant to extreme values (outliers), unlike the range, which can be heavily influenced by extreme values.\n",
    "    \n",
    "__IQR=Q3−Q1__\n",
    "    \n",
    "    \n",
    "    \n",
    "Where:\n",
    "\n",
    "- Q1 (the first quartile) is the median of the lower half of the data, representing the 25th percentile (25% of the data lies below Q1).\n",
    "- Q3 (the third quartile) is the median of the upper half of the data, representing the 75th percentile (75% of the data lies below Q3).\n",
    "    \n",
    "    \n",
    "__Steps to Calculate IQR:__\n",
    "- Sort the data in ascending order.\n",
    "- Find the median of the dataset (which is the 50th percentile).\n",
    "- Find Q1: the median of the lower half of the data (the 25th percentile).\n",
    "- Find Q3: the median of the upper half of the data (the 75th percentile).\n",
    "- Calculate the IQR: \n",
    "  IQR=Q3−Q1\n",
    "    \n",
    "    \n",
    "__IQR FOR OUTLIER DETECTION:__\n",
    "    \n",
    "Once the IQR is calculated, it can be used to identify potential outliers in the data. The commonly used rule for detecting outliers based on IQR is:\n",
    "\n",
    "- __Lower Bound = Q1−1.5×IQR__\n",
    "\n",
    "\n",
    "- __Upper Bound = Q3+1.5×IQR__\n",
    "\n",
    "Any data point that falls below the lower bound or above the upper bound is considered an outlier.\n",
    "\n",
    "__Outlier Detection Formula:__\n",
    "1. Outliers below the lower bound : `x < Q1−1.5×IQR`\n",
    "2. Outliers above the upper bound: `x > Q3+1.5×IQR`\n",
    "\n"
   ]
  },
  {
   "cell_type": "markdown",
   "id": "2bd96bc1",
   "metadata": {},
   "source": [
    "<div style=\"font-family: Verdana; font-size: 18px; line-height: 1.6;\">\n",
    "    \n",
    "</div><div style=\"font-family: Verdana; font-size: 18px; line-height: 1.6;\">\n",
    "    \n",
    "</div>"
   ]
  },
  {
   "cell_type": "markdown",
   "id": "6df080a4",
   "metadata": {},
   "source": [
    "<div style=\"font-family: Verdana; font-size: 20px; font-weight: bold; color: black;line-height:1.6\"> Provide an example dataset, calculate both covariance and correlation, and interpret the results\n",
    "</div>"
   ]
  },
  {
   "cell_type": "markdown",
   "id": "da34e55e",
   "metadata": {},
   "source": [
    "<div style=\"font-family: Verdana; font-size: 18px; line-height: 1.6;\">\n",
    "    \n",
    "__Covariance:__\n",
    "\n",
    "__Definition:__ Covariance is a measure that indicates the direction of the linear relationship between two variables. It tells you how two variables change together.\n",
    "\n",
    "- If covariance is positive, it means that as one variable increases, the other variable tends to increase as well (they move in the same direction).\n",
    "- If covariance is negative, it means that as one variable increases, the other tends to decrease (they move in opposite directions).\n",
    "- If covariance is zero, it means there is no linear relationship between the variables.\n",
    "    \n",
    "However, the magnitude of covariance depends on the units of the variables, which makes it difficult to interpret. For example, if you are measuring height in meters and weight in kilograms, the covariance value would depend on these units, so it may not be easy to compare across different datasets or variables"
   ]
  },
  {
   "cell_type": "markdown",
   "id": "b1ff0f29",
   "metadata": {},
   "source": [
    "<div style=\"font-family: Verdana; font-size: 18px; line-height: 1.6;\">\n",
    "    \n",
    "__FORMULA:__\n",
    "\n",
    "For two variables \\( X \\) and \\( Y \\), the sample covariance is calculated as:\n",
    "\n",
    "$$\n",
    "\\text{Cov}(X, Y) = \\frac{1}{n - 1} \\sum_{i=1}^{n} (x_i - \\bar{x})(y_i - \\bar{y})\n",
    "$$\n",
    "\n",
    "\n"
   ]
  },
  {
   "cell_type": "markdown",
   "id": "272f0678",
   "metadata": {},
   "source": [
    "<div style=\"font-family: Verdana; font-size: 18px; line-height: 1.6;\">\n",
    "    \n",
    "__Correlation:__\n",
    "\n",
    "__Definition:__ Correlation measures both the strength and the direction of the linear relationship between two variables. Unlike covariance, correlation is a normalized value, meaning it is independent of the units of the variables.\n",
    "\n",
    "__Correlation values range from -1 to +1:__\n",
    "- +1 means a perfect positive linear relationship.\n",
    "- -1 means a perfect negative linear relationship.\n",
    "- 0 means no linear relationship.\n",
    "\n",
    "Because correlation normalizes the covariance, it allows for easier interpretation of the strength of the relationship between the variables, regardless of the scale or units of measurement."
   ]
  },
  {
   "cell_type": "markdown",
   "id": "da7a5cd1",
   "metadata": {},
   "source": [
    "<div style=\"font-family: Verdana; font-size: 18px; line-height: 1.6;\">\n",
    "    \n",
    "__FORMULA:__\n",
    "    \n",
    "The correlation between two variables \\( X \\) and \\( Y \\) is calculated as:\n",
    "\n",
    "$$\n",
    "\\text{Correlation}(X, Y) = \\frac{\\text{Cov}(X, Y)}{\\sigma_X \\sigma_Y}\n",
    "$$\n",
    "\n"
   ]
  },
  {
   "cell_type": "code",
   "execution_count": 6,
   "id": "cc1fc3b3",
   "metadata": {},
   "outputs": [
    {
     "name": "stdout",
     "output_type": "stream",
     "text": [
      "Covariance between sepal length and sepal width: -0.0424340044742729\n",
      "Correlation between sepal length and sepal width: -0.11756978413300198\n"
     ]
    }
   ],
   "source": [
    "import seaborn as sns\n",
    "import numpy as np\n",
    "\n",
    "# Loading the dataset\n",
    "iris = sns.load_dataset('iris')\n",
    "\n",
    "# sepal_length and sepal_width\n",
    "X = iris['sepal_length']\n",
    "Y = iris['sepal_width']\n",
    "\n",
    "# Covariance between sepal length and sepal width\n",
    "cov_matrix = np.cov(X, Y)\n",
    "cov_xy = cov_matrix[0, 1]  \n",
    "\n",
    "# Correlation coefficient between sepal length and sepal width\n",
    "correlation = np.corrcoef(X, Y)[0, 1]  \n",
    "\n",
    "# Output results\n",
    "print(f\"Covariance between sepal length and sepal width: {cov_xy}\")\n",
    "print(f\"Correlation between sepal length and sepal width: {correlation}\")\n"
   ]
  },
  {
   "cell_type": "markdown",
   "id": "ac421905",
   "metadata": {},
   "source": [
    "<div style=\"font-family: Verdana; font-size: 18px; line-height: 1.6;\">\n",
    "\n",
    "__Interpretation of Results:__\n",
    "    \n",
    "- __Covariance:__\n",
    "\n",
    "The covariance value of approximately -0.0424 indicates a negative relationship between sepal length and sepal width. As the sepal length increases, the sepal width tends to decrease, but the relationship is quite weak.\n",
    "    \n",
    "- __Correlation:__\n",
    "\n",
    "The correlation coefficient of approximately -0.11756 suggests a weak negative linear relationship between sepal length and sepal width. A correlation closer to 0 implies that the variables are not strongly related, and in this case, it indicates a slight inverse relationship."
   ]
  },
  {
   "cell_type": "markdown",
   "id": "d81f6178",
   "metadata": {},
   "source": [
    "<div style=\"font-family: Verdana; font-size: 18px; line-height: 1.6;\">\n",
    "    \n",
    "</div><div style=\"font-family: Verdana; font-size: 18px; line-height: 1.6;\">\n",
    "    \n",
    "</div>"
   ]
  }
 ],
 "metadata": {
  "kernelspec": {
   "display_name": "Python 3 (ipykernel)",
   "language": "python",
   "name": "python3"
  },
  "language_info": {
   "codemirror_mode": {
    "name": "ipython",
    "version": 3
   },
   "file_extension": ".py",
   "mimetype": "text/x-python",
   "name": "python",
   "nbconvert_exporter": "python",
   "pygments_lexer": "ipython3",
   "version": "3.10.1"
  }
 },
 "nbformat": 4,
 "nbformat_minor": 5
}
